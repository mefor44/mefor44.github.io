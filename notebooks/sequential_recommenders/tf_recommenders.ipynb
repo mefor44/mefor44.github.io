{
 "cells": [
  {
   "cell_type": "code",
   "execution_count": 2,
   "metadata": {},
   "outputs": [
    {
     "name": "stdout",
     "output_type": "stream",
     "text": [
      "Collecting tensorflow-recommenders\n",
      "  Downloading tensorflow_recommenders-0.7.3-py3-none-any.whl (96 kB)\n",
      "     -------------------------------------- 96.2/96.2 kB 924.1 kB/s eta 0:00:00\n",
      "Requirement already satisfied: tensorflow>=2.9.0 in c:\\users\\marzecm\\appdata\\roaming\\python\\python39\\site-packages (from tensorflow-recommenders) (2.13.0)\n",
      "Requirement already satisfied: absl-py>=0.1.6 in c:\\users\\marzecm\\appdata\\roaming\\python\\python39\\site-packages (from tensorflow-recommenders) (1.4.0)\n",
      "Requirement already satisfied: tensorflow-intel==2.13.0 in c:\\users\\marzecm\\appdata\\roaming\\python\\python39\\site-packages (from tensorflow>=2.9.0->tensorflow-recommenders) (2.13.0)\n",
      "Collecting wrapt>=1.11.0\n",
      "  Downloading wrapt-1.16.0-cp39-cp39-win_amd64.whl (37 kB)\n",
      "Requirement already satisfied: six>=1.12.0 in c:\\users\\marzecm\\anaconda3\\envs\\tmp_env\\lib\\site-packages (from tensorflow-intel==2.13.0->tensorflow>=2.9.0->tensorflow-recommenders) (1.16.0)\n",
      "Collecting tensorflow-io-gcs-filesystem>=0.23.1\n",
      "  Using cached tensorflow_io_gcs_filesystem-0.31.0-cp39-cp39-win_amd64.whl (1.5 MB)\n",
      "Requirement already satisfied: astunparse>=1.6.0 in c:\\users\\marzecm\\appdata\\roaming\\python\\python39\\site-packages (from tensorflow-intel==2.13.0->tensorflow>=2.9.0->tensorflow-recommenders) (1.6.3)\n",
      "Collecting termcolor>=1.1.0\n",
      "  Downloading termcolor-2.5.0-py3-none-any.whl (7.8 kB)\n",
      "Requirement already satisfied: packaging in c:\\users\\marzecm\\anaconda3\\envs\\tmp_env\\lib\\site-packages (from tensorflow-intel==2.13.0->tensorflow>=2.9.0->tensorflow-recommenders) (24.1)\n",
      "Requirement already satisfied: google-pasta>=0.1.1 in c:\\users\\marzecm\\appdata\\roaming\\python\\python39\\site-packages (from tensorflow-intel==2.13.0->tensorflow>=2.9.0->tensorflow-recommenders) (0.2.0)\n",
      "Requirement already satisfied: setuptools in c:\\users\\marzecm\\anaconda3\\envs\\tmp_env\\lib\\site-packages (from tensorflow-intel==2.13.0->tensorflow>=2.9.0->tensorflow-recommenders) (65.5.0)\n",
      "Requirement already satisfied: opt-einsum>=2.3.2 in c:\\users\\marzecm\\appdata\\roaming\\python\\python39\\site-packages (from tensorflow-intel==2.13.0->tensorflow>=2.9.0->tensorflow-recommenders) (3.3.0)\n",
      "Requirement already satisfied: protobuf!=4.21.0,!=4.21.1,!=4.21.2,!=4.21.3,!=4.21.4,!=4.21.5,<5.0.0dev,>=3.20.3 in c:\\users\\marzecm\\anaconda3\\envs\\tmp_env\\lib\\site-packages (from tensorflow-intel==2.13.0->tensorflow>=2.9.0->tensorflow-recommenders) (4.25.3)\n",
      "Collecting typing-extensions<4.6.0,>=3.6.6\n",
      "  Using cached typing_extensions-4.5.0-py3-none-any.whl (27 kB)\n",
      "Requirement already satisfied: h5py>=2.9.0 in c:\\users\\marzecm\\appdata\\roaming\\python\\python39\\site-packages (from tensorflow-intel==2.13.0->tensorflow>=2.9.0->tensorflow-recommenders) (3.9.0)\n",
      "Collecting tensorflow-estimator<2.14,>=2.13.0\n",
      "  Using cached tensorflow_estimator-2.13.0-py2.py3-none-any.whl (440 kB)\n",
      "Requirement already satisfied: numpy<=1.24.3,>=1.22 in c:\\users\\marzecm\\anaconda3\\envs\\tmp_env\\lib\\site-packages (from tensorflow-intel==2.13.0->tensorflow>=2.9.0->tensorflow-recommenders) (1.23.5)\n",
      "Requirement already satisfied: grpcio<2.0,>=1.24.3 in c:\\users\\marzecm\\anaconda3\\envs\\tmp_env\\lib\\site-packages (from tensorflow-intel==2.13.0->tensorflow>=2.9.0->tensorflow-recommenders) (1.64.1)\n",
      "Requirement already satisfied: tensorboard<2.14,>=2.13 in c:\\users\\marzecm\\appdata\\roaming\\python\\python39\\site-packages (from tensorflow-intel==2.13.0->tensorflow>=2.9.0->tensorflow-recommenders) (2.13.0)\n",
      "Requirement already satisfied: gast<=0.4.0,>=0.2.1 in c:\\users\\marzecm\\appdata\\roaming\\python\\python39\\site-packages (from tensorflow-intel==2.13.0->tensorflow>=2.9.0->tensorflow-recommenders) (0.4.0)\n",
      "Collecting flatbuffers>=23.1.21\n",
      "  Downloading flatbuffers-24.3.25-py2.py3-none-any.whl (26 kB)\n",
      "Requirement already satisfied: keras<2.14,>=2.13.1 in c:\\users\\marzecm\\appdata\\roaming\\python\\python39\\site-packages (from tensorflow-intel==2.13.0->tensorflow>=2.9.0->tensorflow-recommenders) (2.13.1)\n",
      "Collecting libclang>=13.0.0\n",
      "  Downloading libclang-18.1.1-py2.py3-none-win_amd64.whl (26.4 MB)\n",
      "     ---------------------------------------- 26.4/26.4 MB 4.7 MB/s eta 0:00:00\n",
      "Requirement already satisfied: wheel<1.0,>=0.23.0 in c:\\users\\marzecm\\anaconda3\\envs\\tmp_env\\lib\\site-packages (from astunparse>=1.6.0->tensorflow-intel==2.13.0->tensorflow>=2.9.0->tensorflow-recommenders) (0.37.1)\n",
      "Requirement already satisfied: markdown>=2.6.8 in c:\\users\\marzecm\\appdata\\roaming\\python\\python39\\site-packages (from tensorboard<2.14,>=2.13->tensorflow-intel==2.13.0->tensorflow>=2.9.0->tensorflow-recommenders) (3.4.4)\n",
      "Requirement already satisfied: requests<3,>=2.21.0 in c:\\users\\marzecm\\anaconda3\\envs\\tmp_env\\lib\\site-packages (from tensorboard<2.14,>=2.13->tensorflow-intel==2.13.0->tensorflow>=2.9.0->tensorflow-recommenders) (2.28.1)\n",
      "Requirement already satisfied: google-auth<3,>=1.6.3 in c:\\users\\marzecm\\appdata\\roaming\\python\\python39\\site-packages (from tensorboard<2.14,>=2.13->tensorflow-intel==2.13.0->tensorflow>=2.9.0->tensorflow-recommenders) (2.23.0)\n",
      "Collecting werkzeug>=1.0.1\n",
      "  Downloading werkzeug-3.0.4-py3-none-any.whl (227 kB)\n",
      "     -------------------------------------- 227.6/227.6 kB 3.4 MB/s eta 0:00:00\n",
      "Collecting tensorboard-data-server<0.8.0,>=0.7.0\n",
      "  Downloading tensorboard_data_server-0.7.2-py3-none-any.whl (2.4 kB)\n",
      "Requirement already satisfied: google-auth-oauthlib<1.1,>=0.5 in c:\\users\\marzecm\\appdata\\roaming\\python\\python39\\site-packages (from tensorboard<2.14,>=2.13->tensorflow-intel==2.13.0->tensorflow>=2.9.0->tensorflow-recommenders) (1.0.0)\n",
      "Requirement already satisfied: rsa<5,>=3.1.4 in c:\\users\\marzecm\\appdata\\roaming\\python\\python39\\site-packages (from google-auth<3,>=1.6.3->tensorboard<2.14,>=2.13->tensorflow-intel==2.13.0->tensorflow>=2.9.0->tensorflow-recommenders) (4.9)\n",
      "Requirement already satisfied: urllib3<2.0 in c:\\users\\marzecm\\anaconda3\\envs\\tmp_env\\lib\\site-packages (from google-auth<3,>=1.6.3->tensorboard<2.14,>=2.13->tensorflow-intel==2.13.0->tensorflow>=2.9.0->tensorflow-recommenders) (1.26.13)\n",
      "Requirement already satisfied: cachetools<6.0,>=2.0.0 in c:\\users\\marzecm\\appdata\\roaming\\python\\python39\\site-packages (from google-auth<3,>=1.6.3->tensorboard<2.14,>=2.13->tensorflow-intel==2.13.0->tensorflow>=2.9.0->tensorflow-recommenders) (5.3.1)\n",
      "Requirement already satisfied: pyasn1-modules>=0.2.1 in c:\\users\\marzecm\\appdata\\roaming\\python\\python39\\site-packages (from google-auth<3,>=1.6.3->tensorboard<2.14,>=2.13->tensorflow-intel==2.13.0->tensorflow>=2.9.0->tensorflow-recommenders) (0.3.0)\n",
      "Collecting requests-oauthlib>=0.7.0\n",
      "  Downloading requests_oauthlib-2.0.0-py2.py3-none-any.whl (24 kB)\n",
      "Requirement already satisfied: importlib-metadata>=4.4 in c:\\users\\marzecm\\anaconda3\\envs\\tmp_env\\lib\\site-packages (from markdown>=2.6.8->tensorboard<2.14,>=2.13->tensorflow-intel==2.13.0->tensorflow>=2.9.0->tensorflow-recommenders) (8.0.0)\n",
      "Requirement already satisfied: charset-normalizer<3,>=2 in c:\\users\\marzecm\\anaconda3\\envs\\tmp_env\\lib\\site-packages (from requests<3,>=2.21.0->tensorboard<2.14,>=2.13->tensorflow-intel==2.13.0->tensorflow>=2.9.0->tensorflow-recommenders) (2.1.1)\n",
      "Requirement already satisfied: idna<4,>=2.5 in c:\\users\\marzecm\\anaconda3\\envs\\tmp_env\\lib\\site-packages (from requests<3,>=2.21.0->tensorboard<2.14,>=2.13->tensorflow-intel==2.13.0->tensorflow>=2.9.0->tensorflow-recommenders) (3.4)\n",
      "Requirement already satisfied: certifi>=2017.4.17 in c:\\users\\marzecm\\anaconda3\\envs\\tmp_env\\lib\\site-packages (from requests<3,>=2.21.0->tensorboard<2.14,>=2.13->tensorflow-intel==2.13.0->tensorflow>=2.9.0->tensorflow-recommenders) (2024.6.2)\n",
      "Collecting MarkupSafe>=2.1.1\n",
      "  Downloading MarkupSafe-3.0.1-cp39-cp39-win_amd64.whl (15 kB)\n",
      "Requirement already satisfied: zipp>=0.5 in c:\\users\\marzecm\\anaconda3\\envs\\tmp_env\\lib\\site-packages (from importlib-metadata>=4.4->markdown>=2.6.8->tensorboard<2.14,>=2.13->tensorflow-intel==2.13.0->tensorflow>=2.9.0->tensorflow-recommenders) (3.19.2)\n",
      "Requirement already satisfied: pyasn1<0.6.0,>=0.4.6 in c:\\users\\marzecm\\anaconda3\\envs\\tmp_env\\lib\\site-packages (from pyasn1-modules>=0.2.1->google-auth<3,>=1.6.3->tensorboard<2.14,>=2.13->tensorflow-intel==2.13.0->tensorflow>=2.9.0->tensorflow-recommenders) (0.5.1)\n",
      "Collecting oauthlib>=3.0.0\n",
      "  Using cached oauthlib-3.2.2-py3-none-any.whl (151 kB)\n",
      "Installing collected packages: libclang, flatbuffers, wrapt, typing-extensions, termcolor, tensorflow-io-gcs-filesystem, tensorflow-estimator, tensorboard-data-server, oauthlib, MarkupSafe, werkzeug, requests-oauthlib, tensorflow-recommenders\n",
      "  Attempting uninstall: typing-extensions\n",
      "    Found existing installation: typing_extensions 4.12.2\n",
      "    Uninstalling typing_extensions-4.12.2:\n",
      "      Successfully uninstalled typing_extensions-4.12.2\n",
      "Successfully installed MarkupSafe-3.0.1 flatbuffers-24.3.25 libclang-18.1.1 oauthlib-3.2.2 requests-oauthlib-2.0.0 tensorboard-data-server-0.7.2 tensorflow-estimator-2.13.0 tensorflow-io-gcs-filesystem-0.31.0 tensorflow-recommenders-0.7.3 termcolor-2.5.0 typing-extensions-4.5.0 werkzeug-3.0.4 wrapt-1.16.0\n"
     ]
    },
    {
     "name": "stderr",
     "output_type": "stream",
     "text": [
      "ERROR: pip's dependency resolver does not currently take into account all the packages that are installed. This behaviour is the source of the following dependency conflicts.\n",
      "pydantic 2.8.2 requires typing-extensions>=4.6.1; python_version < \"3.13\", but you have typing-extensions 4.5.0 which is incompatible.\n",
      "pydantic-core 2.20.1 requires typing-extensions!=4.7.0,>=4.6.0, but you have typing-extensions 4.5.0 which is incompatible.\n"
     ]
    }
   ],
   "source": [
    "!pip install tensorflow-recommenders"
   ]
  }
 ],
 "metadata": {
  "kernelspec": {
   "display_name": "tmp_env",
   "language": "python",
   "name": "python3"
  },
  "language_info": {
   "codemirror_mode": {
    "name": "ipython",
    "version": 3
   },
   "file_extension": ".py",
   "mimetype": "text/x-python",
   "name": "python",
   "nbconvert_exporter": "python",
   "pygments_lexer": "ipython3",
   "version": "3.9.15"
  }
 },
 "nbformat": 4,
 "nbformat_minor": 2
}
