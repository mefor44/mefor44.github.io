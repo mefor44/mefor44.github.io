{
 "cells": [
  {
   "cell_type": "code",
   "execution_count": 80,
   "id": "0fc9a677-aa71-45be-91f1-a00db6bfaa4e",
   "metadata": {},
   "outputs": [
    {
     "data": {
      "text/plain": [
       "<torch._C.Generator at 0x1d9cf294ab0>"
      ]
     },
     "execution_count": 80,
     "metadata": {},
     "output_type": "execute_result"
    }
   ],
   "source": [
    "import pandas as pd\n",
    "import torch\n",
    "import torch.nn as nn\n",
    "from torch.utils.data import Dataset, DataLoader\n",
    "import datetime as dt\n",
    "import matplotlib.pyplot as plt\n",
    "import numpy as np\n",
    "from collections import defaultdict\n",
    "from tqdm import tqdm\n",
    "import random\n",
    "\n",
    "seed = 1234\n",
    "random.seed(seed)\n",
    "np.random.seed(seed)\n",
    "torch.use_deterministic_algorithms(mode=True)\n",
    "gen = torch.Generator()\n",
    "gen.manual_seed(seed)"
   ]
  },
  {
   "cell_type": "markdown",
   "id": "87ca66ec-2f6b-43c1-abc1-13c370bb7137",
   "metadata": {},
   "source": [
    "## Read the data\n",
    "Read the data, then apply binarization. We convert the ratings to '1' when rating value is higher than 3. "
   ]
  },
  {
   "cell_type": "code",
   "execution_count": 81,
   "id": "a3bd0bc9-2d9c-4d10-9683-a3f3df7ef326",
   "metadata": {},
   "outputs": [],
   "source": [
    "import zipfile\n",
    "import pandas as pd\n",
    "with zipfile.ZipFile(\"./../data/ml-latest-small.zip\") as z:\n",
    "    with z.open(\"ml-latest-small/ratings.csv\") as f:\n",
    "        ratings = pd.read_csv(f, delimiter=\",\")"
   ]
  },
  {
   "cell_type": "code",
   "execution_count": 82,
   "id": "102f1e92-c450-4b87-be27-ad29a712d080",
   "metadata": {},
   "outputs": [
    {
     "data": {
      "text/html": [
       "<div>\n",
       "<style scoped>\n",
       "    .dataframe tbody tr th:only-of-type {\n",
       "        vertical-align: middle;\n",
       "    }\n",
       "\n",
       "    .dataframe tbody tr th {\n",
       "        vertical-align: top;\n",
       "    }\n",
       "\n",
       "    .dataframe thead th {\n",
       "        text-align: right;\n",
       "    }\n",
       "</style>\n",
       "<table border=\"1\" class=\"dataframe\">\n",
       "  <thead>\n",
       "    <tr style=\"text-align: right;\">\n",
       "      <th></th>\n",
       "      <th>userId</th>\n",
       "      <th>movieId</th>\n",
       "      <th>rating</th>\n",
       "      <th>timestamp</th>\n",
       "    </tr>\n",
       "  </thead>\n",
       "  <tbody>\n",
       "    <tr>\n",
       "      <th>0</th>\n",
       "      <td>1</td>\n",
       "      <td>1</td>\n",
       "      <td>4.0</td>\n",
       "      <td>964982703</td>\n",
       "    </tr>\n",
       "    <tr>\n",
       "      <th>1</th>\n",
       "      <td>1</td>\n",
       "      <td>3</td>\n",
       "      <td>4.0</td>\n",
       "      <td>964981247</td>\n",
       "    </tr>\n",
       "    <tr>\n",
       "      <th>2</th>\n",
       "      <td>1</td>\n",
       "      <td>6</td>\n",
       "      <td>4.0</td>\n",
       "      <td>964982224</td>\n",
       "    </tr>\n",
       "    <tr>\n",
       "      <th>3</th>\n",
       "      <td>1</td>\n",
       "      <td>47</td>\n",
       "      <td>5.0</td>\n",
       "      <td>964983815</td>\n",
       "    </tr>\n",
       "    <tr>\n",
       "      <th>4</th>\n",
       "      <td>1</td>\n",
       "      <td>50</td>\n",
       "      <td>5.0</td>\n",
       "      <td>964982931</td>\n",
       "    </tr>\n",
       "  </tbody>\n",
       "</table>\n",
       "</div>"
      ],
      "text/plain": [
       "   userId  movieId  rating  timestamp\n",
       "0       1        1     4.0  964982703\n",
       "1       1        3     4.0  964981247\n",
       "2       1        6     4.0  964982224\n",
       "3       1       47     5.0  964983815\n",
       "4       1       50     5.0  964982931"
      ]
     },
     "execution_count": 82,
     "metadata": {},
     "output_type": "execute_result"
    }
   ],
   "source": [
    "ratings.head()"
   ]
  },
  {
   "cell_type": "code",
   "execution_count": 83,
   "id": "358a12ac-dbe9-4a9e-b7e7-dac4ec8447cd",
   "metadata": {},
   "outputs": [
    {
     "data": {
      "text/plain": [
       "((100836, 6), (61716, 6))"
      ]
     },
     "execution_count": 83,
     "metadata": {},
     "output_type": "execute_result"
    }
   ],
   "source": [
    "ratings['datetime'] = ratings['timestamp'].apply(lambda x: dt.datetime.fromtimestamp(x / 1000.0))\n",
    "ratings[\"date\"] = pd.to_datetime(ratings['datetime']).dt.date\n",
    "interactions = ratings[ratings.rating > 3]\n",
    "ratings.shape, interactions.shape"
   ]
  },
  {
   "cell_type": "code",
   "execution_count": 84,
   "id": "2d84bb7c-3b06-4ea6-be35-d10a680b8cba",
   "metadata": {},
   "outputs": [
    {
     "data": {
      "text/plain": [
       "(609, 7363)"
      ]
     },
     "execution_count": 84,
     "metadata": {},
     "output_type": "execute_result"
    }
   ],
   "source": [
    "interactions.userId.nunique(), interactions.movieId.nunique()"
   ]
  },
  {
   "cell_type": "markdown",
   "id": "c12b83b4-e43c-4ad3-a91a-2a363e0a4e66",
   "metadata": {},
   "source": [
    "## Split the data\n",
    "Split the data based on timestamp. First let's inspect number of interactions per day in our dataset."
   ]
  },
  {
   "cell_type": "code",
   "execution_count": 85,
   "id": "411447ca-c542-41af-b340-206b2620b082",
   "metadata": {},
   "outputs": [
    {
     "data": {
      "image/png": "[encoded data removed]",
      "text/plain": [
       "<Figure size 432x288 with 1 Axes>"
      ]
     },
     "metadata": {
      "needs_background": "light"
     },
     "output_type": "display_data"
    }
   ],
   "source": [
    "n_interactions = interactions.groupby(\"date\").agg(n_obs=(\"userId\",\"count\")).reset_index()\n",
    "n_interactions\n",
    "plt.bar(n_interactions.date, n_interactions.n_obs)\n",
    "plt.title(\"Number of interactions in given day\")\n",
    "plt.ylabel(\"n interactions\")\n",
    "plt.xticks(rotation=45)\n",
    "plt.show()"
   ]
  },
  {
   "cell_type": "markdown",
   "id": "a494f3cb-d23d-423b-afc0-ad1311eb28e8",
   "metadata": {},
   "source": [
    "Let's split the data on the last day. So in our example this will be day \"1970-01-18\". <br />\n",
    "**Question: <br /> What are the advantages and disadvantages of such split compared to other types of splits? For other types of splitting consider random split* and leave-one-out split\\**.** <br />\n",
    "\\* Random split is just randomly selecting interactions for test set. <br />\n",
    "\\** Leave-one-out split is selecting just one item for each user. Assume that we know temporal ordering and in such case leave-one-out selects last item from each user interaction history. Recall, that's not the same ase leave-one-out cross validation strategy!!!"
   ]
  },
  {
   "cell_type": "markdown",
   "id": "7467de6e-e060-434f-9a8a-f0ee5eac076b",
   "metadata": {},
   "source": [
    "**Answer:** \n",
    "Greatest advantage of this type of split is it's robustness to data leakages phenomena. For random split is trivial to see why leakage can happen. In leave-one-out split, last interaction of certain user can have a timestamp smaller than some observations from test set. This is dangerous, as some information from train data can leak to test set. One of the disadvantages is poor users coverage. Having test set taken from just one day, most of the users will have exactly zero interactions during that day (so we won't know how model will handle them in real scenario). Moreover, some users will have many interactions, other only one or two. Most of the ranking metrics at some point average the score over users - they don't consider that some users had more interacions in test set."
   ]
  },
  {
   "cell_type": "code",
   "execution_count": 86,
   "id": "7e5f1d42-64e2-42f9-99c7-bce1500e4221",
   "metadata": {},
   "outputs": [
    {
     "data": {
      "text/plain": [
       "(Timestamp('1970-01-17 23:59:44.741000'),\n",
       " 51431,\n",
       " Timestamp('1970-01-18 00:04:28.014000'),\n",
       " 10285)"
      ]
     },
     "execution_count": 86,
     "metadata": {},
     "output_type": "execute_result"
    }
   ],
   "source": [
    "split_date = \"1970-01-18\"\n",
    "train = interactions[interactions.datetime < split_date]\n",
    "test = interactions[interactions.datetime >= split_date]\n",
    "train.datetime.max(), len(train), test.datetime.min(), len(test)"
   ]
  },
  {
   "cell_type": "markdown",
   "id": "bff8d6bb-684a-4add-a1dc-8ba353f957e0",
   "metadata": {},
   "source": [
    "Our train and test datasets look valid. We have around 50k and 10k observations in train and test, respectively. Due to the nature of choosen split latter number can change. <br />\n",
    "**Question: <br />\n",
    "Why is that?**"
   ]
  },
  {
   "cell_type": "markdown",
   "id": "5cebbaf4-1e7e-4ae8-84b4-91f3a2b2cbf8",
   "metadata": {},
   "source": [
    "**Answer:** <br />\n",
    "We haven't checked if all users (or items) from test set have at least one interaction in train set. If there is no interaction for given user / item in train set the model won't be able to learn how to generate recommendations for given user or item. Therefore, we may need to remove users (or items) which are not present in train set"
   ]
  },
  {
   "cell_type": "code",
   "execution_count": 87,
   "id": "c9b77e97-aa41-4f45-a119-1e69d3761b22",
   "metadata": {},
   "outputs": [
    {
     "name": "stderr",
     "output_type": "stream",
     "text": [
      "C:\\Users\\marzecm\\AppData\\Local\\Temp\\ipykernel_15996\\1918217346.py:7: SettingWithCopyWarning: \n",
      "A value is trying to be set on a copy of a slice from a DataFrame.\n",
      "Try using .loc[row_indexer,col_indexer] = value instead\n",
      "\n",
      "See the caveats in the documentation: https://pandas.pydata.org/pandas-docs/stable/user_guide/indexing.html#returning-a-view-versus-a-copy\n",
      "  train[\"users_mapped\"] = train[\"userId\"].apply(lambda x: u_to_ids[x])\n",
      "C:\\Users\\marzecm\\AppData\\Local\\Temp\\ipykernel_15996\\1918217346.py:8: SettingWithCopyWarning: \n",
      "A value is trying to be set on a copy of a slice from a DataFrame.\n",
      "Try using .loc[row_indexer,col_indexer] = value instead\n",
      "\n",
      "See the caveats in the documentation: https://pandas.pydata.org/pandas-docs/stable/user_guide/indexing.html#returning-a-view-versus-a-copy\n",
      "  train[\"items_mapped\"] = train[\"movieId\"].apply(lambda x: i_to_ids[x])\n"
     ]
    },
    {
     "data": {
      "text/plain": [
       "(532, 6236)"
      ]
     },
     "execution_count": 87,
     "metadata": {},
     "output_type": "execute_result"
    }
   ],
   "source": [
    "users, items = train.userId.unique(), train.movieId.unique()\n",
    "n_users, n_items = len(users), len(items)\n",
    "users_df = pd.DataFrame(users, columns=[\"userId\"])\n",
    "items_df = pd.DataFrame(items, columns=[\"movieId\"])\n",
    "u_to_ids = {user:idx for idx,user in enumerate(users)}\n",
    "i_to_ids = {item:idx for idx,item in enumerate(items)}\n",
    "train[\"users_mapped\"] = train[\"userId\"].apply(lambda x: u_to_ids[x])\n",
    "train[\"items_mapped\"] = train[\"movieId\"].apply(lambda x: i_to_ids[x])\n",
    "n_users, n_items"
   ]
  },
  {
   "cell_type": "code",
   "execution_count": 88,
   "id": "fefb075e-0219-438e-85c3-3f6bca87b02a",
   "metadata": {},
   "outputs": [
    {
     "name": "stdout",
     "output_type": "stream",
     "text": [
      "Test n obs before merge = 10285\n",
      "Test n obs after merge = 803\n"
     ]
    }
   ],
   "source": [
    "print(f\"Test n obs before merge = {test.shape[0]}\")\n",
    "test_valid = test.merge(users_df, on=\"userId\").merge(items_df, on=\"movieId\")\n",
    "print(f\"Test n obs after merge = {test_valid.shape[0]}\")"
   ]
  },
  {
   "cell_type": "markdown",
   "id": "283859ee-e4a9-4561-9c05-331567dd0a6e",
   "metadata": {},
   "source": [
    "It looks like we have removed more than 90% of test set! This is very rare situation, but we are working on educational dataset, so this is not that important. It is just a subset of the whole MovieLens dataset, and we don't know how exactly the data was collected."
   ]
  },
  {
   "cell_type": "markdown",
   "id": "9008680a-daad-4530-a3e5-fa4ebdaf0d81",
   "metadata": {},
   "source": [
    "## Model\n",
    "In currect section we will implement Matrix Factorization model (and Neural Matrix Factorization model) \n",
    "### Matrix Factorization\n",
    "**Exercise:**<br /> Implement matrix factorization model. Use the cell below as a guide (change given functions)."
   ]
  },
  {
   "cell_type": "code",
   "execution_count": 89,
   "id": "ad3128c4-2259-4f08-a5c6-cb6e3c7d953e",
   "metadata": {},
   "outputs": [],
   "source": [
    "class MF(nn.Module):\n",
    "    def __init__(self, n_factors=None):\n",
    "        pass\n",
    "    \n",
    "    def forward(self, user, item):\n",
    "        pass\n",
    "        "
   ]
  },
  {
   "cell_type": "code",
   "execution_count": 90,
   "id": "3b1ca497-8951-49a8-b9f5-0e8c332a1ec9",
   "metadata": {},
   "outputs": [],
   "source": [
    "class MatrixFactorization(nn.Module):\n",
    "    def __init__(self, n_factors=None, n_users=None, n_items=None):\n",
    "        super().__init__()\n",
    "        self.n_factors = n_factors\n",
    "        self.users = nn.Embedding(n_users, n_factors)\n",
    "        self.items = nn.Embedding(n_items, n_factors)\n",
    "    \n",
    "    def forward(self, user, item):\n",
    "        user_emb, item_emb = self.users(user), self.items(item)\n",
    "        return (user_emb * item_emb).sum(dim=1)"
   ]
  },
  {
   "cell_type": "markdown",
   "id": "7ba20112-8141-4ec5-af17-0723f487ac39",
   "metadata": {
    "tags": []
   },
   "source": [
    "## Evaluation\n",
    "Evaluation of the recommender system can be performed in various settings. The two main ways to do so are online evaluation and offline evaluation. The online evaluation uses a continuous stream of users feedback to access system performance. In practice, it is often difficult to design settings allowing for such evaluation. Offline evaluation is based on historical data and it is the most common way of evaluating recommender system models. When designing evaluation methodology for a recommender system, we have to consider our goals. In the early stages of research in this field, calculating RMSE, MSE or MAE (Mean Absolute Error) was a very popular way of accessing the performance of the recommender system. This was, of course, connected with the data availability - the main datasets available online consisted of explicit ranking. Therefore, recommendation problem was often treated as a regression problem so typical regression metrics were used. When the data was in a binary form - metrics based on classification were used. The current standard are ranking based metrics. They give the biggest weights to the items placed at the top of the ranking list, which mimics the goal of top-k recommendation. <br /> In this tutorial we will focus on **Recall@k** which is a metric build upon Recall used for standard classification problems. For a given user we can define: \n",
    "$$Recall@k = \\frac{number\\ of\\ relevant\\ items}{total\\ number\\ of\\ items},$$ the number $k$ is the length of the recommendation list. To calculate Recall@k for the whole dataset we average the values of recall for each user. <br />\n",
    "\n",
    "As we don't have negative interactions we can sample (again ;)) negatives for users from test set. For each user we sample 100 items, and consider them negative. Then if we want to calculate Recall@10 for user $u$ with two items in test set, we need to score all 102 items, and order them accordingly to obtained scores (higher score means higher probability of interaction). For Recall@10 we need to check how many of these two relevant items are in top-10 recommendation list and divide it by the total number of relevant items for this user (=2 in this case). \n",
    "\n",
    "\n",
    "**Exercise:**<br />\n",
    "Implement function for calculating the recall for a given user. Then sample 100 negative items for each user (items have to be different from what is in given user's test set). Calculate recall at cutoffs k=5,10,30 for untrained model. Note: Your recall function doesn't have to have specific arguments defined below, but the solution will refer to them."
   ]
  },
  {
   "cell_type": "code",
   "execution_count": 91,
   "id": "e37e071c-2168-43c6-8da0-06cee6c87853",
   "metadata": {},
   "outputs": [],
   "source": [
    "def recall_k(k=10, annotated_preds=[]):\n",
    "    pass\n",
    "    # k - cutoff value\n",
    "    # preds - list with tuples (probability, 0/1) indicating predicted scores and label"
   ]
  },
  {
   "cell_type": "markdown",
   "id": "ecc168ee-47e0-4103-8a17-7c9f8da92e2f",
   "metadata": {},
   "source": [
    "**Solution:**"
   ]
  },
  {
   "cell_type": "code",
   "execution_count": 92,
   "id": "f294a451-b060-4301-a59c-3b84705e1e8a",
   "metadata": {},
   "outputs": [],
   "source": [
    "test_positives = test_valid.groupby(\"userId\")[\"movieId\"].agg(lambda x: x.tolist())\n",
    "\n",
    "items_set = set(items)\n",
    "positives_test = {}\n",
    "negatives_test = {}\n",
    "for u,i_pos in zip(test_positives.index, test_positives):\n",
    "    sampled = np.random.choice(list(items_set - set(i_pos)), size=100, replace=False)\n",
    "    positives_test[u] = i_pos\n",
    "    negatives_test[u] = sampled\n",
    "    \n",
    "# encode users and items for model\n",
    "positives_test_encoded = {}\n",
    "negatives_test_encoded = {}\n",
    "for u,itms in positives_test.items():\n",
    "    positives_test_encoded[u_to_ids[u]] = [i_to_ids[i] for i in itms]\n",
    "for u,itms in negatives_test.items():\n",
    "    negatives_test_encoded[u_to_ids[u]] = [i_to_ids[i] for i in itms]"
   ]
  },
  {
   "cell_type": "code",
   "execution_count": 93,
   "id": "22d2394a-dab0-4458-b775-0596f302d38c",
   "metadata": {},
   "outputs": [],
   "source": [
    "# score positives and negatives\n",
    "def score(model, positives_test_encoded, negatives_test_encoded):\n",
    "    scored = defaultdict(list)\n",
    "    for u, itms in positives_test_encoded.items():\n",
    "        u_tensor = torch.tensor([u]).repeat(len(itms))\n",
    "        itms = torch.tensor(itms)\n",
    "        # evaluate model:\n",
    "        model.eval()\n",
    "        with torch.no_grad():\n",
    "            preds = model(u_tensor, itms)\n",
    "        for p in preds:\n",
    "            scored[u].append((p.item(),1))\n",
    "\n",
    "    for u, itms in negatives_test_encoded.items():\n",
    "        u_tensor = torch.tensor([u]).repeat(len(itms))\n",
    "        itms = torch.tensor(itms)\n",
    "        # evaluate model:\n",
    "        model.eval()\n",
    "        with torch.no_grad():\n",
    "            preds = model(u_tensor, itms)\n",
    "        for p in preds:\n",
    "            scored[u].append((p.item(),0))\n",
    "    return scored"
   ]
  },
  {
   "cell_type": "code",
   "execution_count": 94,
   "id": "386bc257-3bc0-4f65-a733-f3a0ec3d3693",
   "metadata": {},
   "outputs": [],
   "source": [
    "def recall_k(k=10, annotated_preds=[]):\n",
    "    # k - cutoff value\n",
    "    # preds - list with tuples (probability, 0/1) indicating predicted scores and label\n",
    "    n = min(k, sum([i[1] for i in annotated_preds]))\n",
    "    s = sorted(annotated_preds, key=lambda x: x[0], reverse=True)\n",
    "    r = sum([i[1] for i in s[:k]])\n",
    "    return r / n"
   ]
  },
  {
   "cell_type": "code",
   "execution_count": 95,
   "id": "7e7da98e-5a6e-44e4-b20a-8d7b7867f04d",
   "metadata": {},
   "outputs": [
    {
     "name": "stdout",
     "output_type": "stream",
     "text": [
      "Recall@5 = 0.19230769230769232\n",
      "Recall@10 = 0.2465811965811966\n",
      "Recall@30 = 0.34155591336991925\n"
     ]
    }
   ],
   "source": [
    "# init random model\n",
    "model = MatrixFactorization(n_factors=20, n_users=n_users, n_items=n_items)\n",
    "scored = score(model, positives_test_encoded, negatives_test_encoded)\n",
    "for k in [5,10, 30]:\n",
    "    recalls = [recall_k(k, pred) for pred in scored.values()]\n",
    "    mean_recall = np.mean(recalls)\n",
    "    print(f\"Recall@{k} = {mean_recall}\")"
   ]
  },
  {
   "cell_type": "code",
   "execution_count": 100,
   "id": "552982e7-0947-49a3-8eaf-83e4e764ffd9",
   "metadata": {},
   "outputs": [
    {
     "name": "stdout",
     "output_type": "stream",
     "text": [
      "Recall@5 = 0.1461538461538462\n",
      "Recall@10 = 0.15000000000000002\n",
      "Recall@30 = 0.24649791708194588\n"
     ]
    }
   ],
   "source": [
    "# init random model\n",
    "model = MatrixFactorization(n_factors=20, n_users=n_users, n_items=n_items)\n",
    "scored = score(model, positives_test_encoded, negatives_test_encoded)\n",
    "for k in [5,10, 30]:\n",
    "    recalls = [recall_k(k, pred) for pred in scored.values()]\n",
    "    mean_recall = np.mean(recalls)\n",
    "    print(f\"Recall@{k} = {mean_recall}\")"
   ]
  },
  {
   "cell_type": "code",
   "execution_count": 28,
   "id": "ddf7de95-7f62-4e9d-bded-ac1d83d4eab4",
   "metadata": {},
   "outputs": [],
   "source": [
    "# helper function, we will use it later during trainig\n",
    "def score_recall(model, positives_test_encoded, negatives_test_encoded, k):\n",
    "    scored = score(model, positives_test_encoded, negatives_test_encoded)\n",
    "    recalls = [recall_k(k, pred) for pred in scored.values()]\n",
    "    return np.mean(recalls)"
   ]
  },
  {
   "cell_type": "markdown",
   "id": "8648f02d-9890-4870-84f2-ac4863917735",
   "metadata": {},
   "source": [
    "## Training\n",
    "Now, we will train implemented models. We need to define some training hyperparameters (learning rate, batch size and the number of epochs), initilize optimizer and model and implement custom dataset class (we could live without it, but it simplifies code during training) and training loop."
   ]
  },
  {
   "cell_type": "code",
   "execution_count": 37,
   "id": "bad7f167-eac4-4e76-81e5-0792b829faed",
   "metadata": {},
   "outputs": [],
   "source": [
    "lr = 1e-3\n",
    "batch_size = 64\n",
    "n_epochs = 40"
   ]
  },
  {
   "cell_type": "markdown",
   "id": "b31820e5-811e-4613-8773-bcf02054298c",
   "metadata": {},
   "source": [
    "For the loss function we will use Binary cross entropy, as we are treating our problem as a classification problem."
   ]
  },
  {
   "cell_type": "code",
   "execution_count": 38,
   "id": "16636b2d-6062-45fa-bbed-d92398970947",
   "metadata": {},
   "outputs": [],
   "source": [
    "model = MatrixFactorization(n_factors=20, n_users=n_users, n_items=n_items)\n",
    "\n",
    "optimizer = torch.optim.Adam(model.parameters(), lr=lr)\n",
    "loss_function = nn.BCEWithLogitsLoss()"
   ]
  },
  {
   "cell_type": "code",
   "execution_count": 17,
   "id": "97aedac0-d3bf-4d93-8c65-de2020fe8cc5",
   "metadata": {},
   "outputs": [],
   "source": [
    "class MovieLensDataset(Dataset):\n",
    "    def __init__(self, data, output_col=\"output\"):\n",
    "        self.users = data.users_mapped.values\n",
    "        self.items = data.items_mapped.values\n",
    "        if output_col:\n",
    "            self.output = data[output_col].values\n",
    "        else:\n",
    "            self.output = np.ones(self.users.shape)\n",
    "        \n",
    "    def __len__(self):\n",
    "        return len(self.users)\n",
    "        \n",
    "    def __getitem__(self, idx):\n",
    "        return (self.users[idx], self.items[idx], self.output[idx])"
   ]
  },
  {
   "cell_type": "code",
   "execution_count": 31,
   "id": "f9b9465f-6747-4f80-9697-a9697714958f",
   "metadata": {},
   "outputs": [],
   "source": [
    "dataset = MovieLensDataset(train, output_col=None)\n",
    "dataloader = DataLoader(dataset, batch_size=batch_size, shuffle=True, generator=gen)"
   ]
  },
  {
   "cell_type": "markdown",
   "id": "39637ef2-2ddd-489e-97b5-6f69aa64aa79",
   "metadata": {},
   "source": [
    "### Train without sampling\n",
    "In classification problems we have both negative and positive instances, but here we only have positives. In this section we will try to train a model only on positive interactions."
   ]
  },
  {
   "cell_type": "code",
   "execution_count": 39,
   "id": "b59ddab0-bbdf-4847-84ad-5e3b2f5ceaaa",
   "metadata": {},
   "outputs": [],
   "source": [
    "def train_fn(model, optimizer, n_epochs, dataloader, verbose_n_steps=None, eval_recall=True, k=10):\n",
    "    epoch_losses, recalls = [], []\n",
    "    global_step = 0\n",
    "    epoch_loss = []\n",
    "    for epoch in range(1, n_epochs+1):\n",
    "        print(f\"Running epoch {epoch}\")\n",
    "        tmp_loss = []\n",
    "        for user, item, output in tqdm(dataloader):\n",
    "            optimizer.zero_grad()\n",
    "\n",
    "            # Predict and calculate loss\n",
    "            prediction = model(user, item)\n",
    "            loss = loss_function(prediction, output)\n",
    "\n",
    "            # Backpropagate\n",
    "            loss.backward()\n",
    "\n",
    "            # Update the parameters\n",
    "            optimizer.step()\n",
    "\n",
    "            global_step += 1\n",
    "            epoch_loss.append(loss.item())\n",
    "            \n",
    "            if verbose_n_steps:\n",
    "                # store current loss\n",
    "                tmp_loss.append(loss.item())\n",
    "            if verbose_n_steps and global_step % verbose_n_steps == 0:\n",
    "                avg = np.mean(tmp_loss)\n",
    "                print(f\"Step = {global_step}, moving average loss = {avg}\")\n",
    "                tmp_loss = []\n",
    "                \n",
    "        e_loss = np.mean(epoch_loss)\n",
    "        epoch_losses.append(e_loss)\n",
    "        print(f\"Avg loss after epoch {epoch}, is equal to {e_loss}\")\n",
    "        \n",
    "        if eval_recall:\n",
    "            r = score_recall(model, positives_test_encoded, negatives_test_encoded, k)\n",
    "            print(f\"Recall@{k} (test set) after epoch {epoch}, is equal to {r}\")\n",
    "            recalls.append(r)\n",
    "            \n",
    "    return epoch_losses, recalls"
   ]
  },
  {
   "cell_type": "code",
   "execution_count": 40,
   "id": "1859acdd-f032-43d1-bff6-93ba3643cdf5",
   "metadata": {},
   "outputs": [
    {
     "name": "stdout",
     "output_type": "stream",
     "text": [
      "Running epoch 1\n"
     ]
    },
    {
     "name": "stderr",
     "output_type": "stream",
     "text": [
      "100%|███████████████████████████████████████████████████████████████████████████████| 804/804 [00:02<00:00, 397.44it/s]\n"
     ]
    },
    {
     "name": "stdout",
     "output_type": "stream",
     "text": [
      "Avg loss after epoch 1, is equal to 1.8510106407988793\n",
      "Recall@10 (test set) after epoch 1, is equal to 0.24658119658119657\n",
      "Running epoch 2\n"
     ]
    },
    {
     "name": "stderr",
     "output_type": "stream",
     "text": [
      "100%|███████████████████████████████████████████████████████████████████████████████| 804/804 [00:02<00:00, 308.31it/s]\n"
     ]
    },
    {
     "name": "stdout",
     "output_type": "stream",
     "text": [
      "Avg loss after epoch 2, is equal to 1.7544759394481668\n",
      "Recall@10 (test set) after epoch 2, is equal to 0.2388888888888889\n",
      "Running epoch 3\n"
     ]
    },
    {
     "name": "stderr",
     "output_type": "stream",
     "text": [
      "100%|███████████████████████████████████████████████████████████████████████████████| 804/804 [00:02<00:00, 319.00it/s]\n"
     ]
    },
    {
     "name": "stdout",
     "output_type": "stream",
     "text": [
      "Avg loss after epoch 3, is equal to 1.6642023505973096\n",
      "Recall@10 (test set) after epoch 3, is equal to 0.23504273504273507\n",
      "Running epoch 4\n"
     ]
    },
    {
     "name": "stderr",
     "output_type": "stream",
     "text": [
      "100%|███████████████████████████████████████████████████████████████████████████████| 804/804 [00:02<00:00, 323.64it/s]\n"
     ]
    },
    {
     "name": "stdout",
     "output_type": "stream",
     "text": [
      "Avg loss after epoch 4, is equal to 1.5809704843825343\n",
      "Recall@10 (test set) after epoch 4, is equal to 0.2465811965811966\n",
      "Running epoch 5\n"
     ]
    },
    {
     "name": "stderr",
     "output_type": "stream",
     "text": [
      "100%|███████████████████████████████████████████████████████████████████████████████| 804/804 [00:03<00:00, 255.58it/s]\n"
     ]
    },
    {
     "name": "stdout",
     "output_type": "stream",
     "text": [
      "Avg loss after epoch 5, is equal to 1.5044253219441783\n",
      "Recall@10 (test set) after epoch 5, is equal to 0.24273504273504276\n",
      "Running epoch 6\n"
     ]
    },
    {
     "name": "stderr",
     "output_type": "stream",
     "text": [
      "100%|███████████████████████████████████████████████████████████████████████████████| 804/804 [00:02<00:00, 331.36it/s]\n"
     ]
    },
    {
     "name": "stdout",
     "output_type": "stream",
     "text": [
      "Avg loss after epoch 6, is equal to 1.4339773110904102\n",
      "Recall@10 (test set) after epoch 6, is equal to 0.24273504273504276\n",
      "Running epoch 7\n"
     ]
    },
    {
     "name": "stderr",
     "output_type": "stream",
     "text": [
      "100%|███████████████████████████████████████████████████████████████████████████████| 804/804 [00:02<00:00, 285.06it/s]\n"
     ]
    },
    {
     "name": "stdout",
     "output_type": "stream",
     "text": [
      "Avg loss after epoch 7, is equal to 1.3690214341800897\n",
      "Recall@10 (test set) after epoch 7, is equal to 0.23504273504273504\n",
      "Running epoch 8\n"
     ]
    },
    {
     "name": "stderr",
     "output_type": "stream",
     "text": [
      "100%|███████████████████████████████████████████████████████████████████████████████| 804/804 [00:02<00:00, 289.04it/s]\n"
     ]
    },
    {
     "name": "stdout",
     "output_type": "stream",
     "text": [
      "Avg loss after epoch 8, is equal to 1.308814862990385\n",
      "Recall@10 (test set) after epoch 8, is equal to 0.22735042735042732\n",
      "Running epoch 9\n"
     ]
    },
    {
     "name": "stderr",
     "output_type": "stream",
     "text": [
      "100%|███████████████████████████████████████████████████████████████████████████████| 804/804 [00:02<00:00, 317.82it/s]\n"
     ]
    },
    {
     "name": "stdout",
     "output_type": "stream",
     "text": [
      "Avg loss after epoch 9, is equal to 1.2527152571692162\n",
      "Recall@10 (test set) after epoch 9, is equal to 0.20811965811965813\n",
      "Running epoch 10\n"
     ]
    },
    {
     "name": "stderr",
     "output_type": "stream",
     "text": [
      "100%|███████████████████████████████████████████████████████████████████████████████| 804/804 [00:02<00:00, 338.37it/s]\n"
     ]
    },
    {
     "name": "stdout",
     "output_type": "stream",
     "text": [
      "Avg loss after epoch 10, is equal to 1.1999647399148943\n",
      "Recall@10 (test set) after epoch 10, is equal to 0.20811965811965813\n",
      "Running epoch 11\n"
     ]
    },
    {
     "name": "stderr",
     "output_type": "stream",
     "text": [
      "100%|███████████████████████████████████████████████████████████████████████████████| 804/804 [00:02<00:00, 366.14it/s]\n"
     ]
    },
    {
     "name": "stdout",
     "output_type": "stream",
     "text": [
      "Avg loss after epoch 11, is equal to 1.1498663795451187\n",
      "Recall@10 (test set) after epoch 11, is equal to 0.20811965811965813\n",
      "Running epoch 12\n"
     ]
    },
    {
     "name": "stderr",
     "output_type": "stream",
     "text": [
      "100%|███████████████████████████████████████████████████████████████████████████████| 804/804 [00:02<00:00, 358.99it/s]\n"
     ]
    },
    {
     "name": "stdout",
     "output_type": "stream",
     "text": [
      "Avg loss after epoch 12, is equal to 1.1017759135258534\n",
      "Recall@10 (test set) after epoch 12, is equal to 0.21581196581196582\n",
      "Running epoch 13\n"
     ]
    },
    {
     "name": "stderr",
     "output_type": "stream",
     "text": [
      "100%|███████████████████████████████████████████████████████████████████████████████| 804/804 [00:02<00:00, 346.90it/s]\n"
     ]
    },
    {
     "name": "stdout",
     "output_type": "stream",
     "text": [
      "Avg loss after epoch 13, is equal to 1.0551590432868325\n",
      "Recall@10 (test set) after epoch 13, is equal to 0.23076923076923078\n",
      "Running epoch 14\n"
     ]
    },
    {
     "name": "stderr",
     "output_type": "stream",
     "text": [
      "100%|███████████████████████████████████████████████████████████████████████████████| 804/804 [00:02<00:00, 306.04it/s]\n"
     ]
    },
    {
     "name": "stdout",
     "output_type": "stream",
     "text": [
      "Avg loss after epoch 14, is equal to 1.00971596005123\n",
      "Recall@10 (test set) after epoch 14, is equal to 0.2269230769230769\n",
      "Running epoch 15\n"
     ]
    },
    {
     "name": "stderr",
     "output_type": "stream",
     "text": [
      "100%|███████████████████████████████████████████████████████████████████████████████| 804/804 [00:02<00:00, 281.79it/s]\n"
     ]
    },
    {
     "name": "stdout",
     "output_type": "stream",
     "text": [
      "Avg loss after epoch 15, is equal to 0.9653882204542736\n",
      "Recall@10 (test set) after epoch 15, is equal to 0.22692307692307695\n",
      "Running epoch 16\n"
     ]
    },
    {
     "name": "stderr",
     "output_type": "stream",
     "text": [
      "100%|███████████████████████████████████████████████████████████████████████████████| 804/804 [00:02<00:00, 294.48it/s]\n"
     ]
    },
    {
     "name": "stdout",
     "output_type": "stream",
     "text": [
      "Avg loss after epoch 16, is equal to 0.9223468448880429\n",
      "Recall@10 (test set) after epoch 16, is equal to 0.25\n",
      "Running epoch 17\n"
     ]
    },
    {
     "name": "stderr",
     "output_type": "stream",
     "text": [
      "100%|███████████████████████████████████████████████████████████████████████████████| 804/804 [00:03<00:00, 261.61it/s]\n"
     ]
    },
    {
     "name": "stdout",
     "output_type": "stream",
     "text": [
      "Avg loss after epoch 17, is equal to 0.8808635983249089\n",
      "Recall@10 (test set) after epoch 17, is equal to 0.21923076923076923\n",
      "Running epoch 18\n"
     ]
    },
    {
     "name": "stderr",
     "output_type": "stream",
     "text": [
      "100%|███████████████████████████████████████████████████████████████████████████████| 804/804 [00:03<00:00, 258.52it/s]\n"
     ]
    },
    {
     "name": "stdout",
     "output_type": "stream",
     "text": [
      "Avg loss after epoch 18, is equal to 0.8412260900872175\n",
      "Recall@10 (test set) after epoch 18, is equal to 0.2269230769230769\n",
      "Running epoch 19\n"
     ]
    },
    {
     "name": "stderr",
     "output_type": "stream",
     "text": [
      "100%|███████████████████████████████████████████████████████████████████████████████| 804/804 [00:02<00:00, 277.16it/s]\n"
     ]
    },
    {
     "name": "stdout",
     "output_type": "stream",
     "text": [
      "Avg loss after epoch 19, is equal to 0.8036493271535068\n",
      "Recall@10 (test set) after epoch 19, is equal to 0.2269230769230769\n",
      "Running epoch 20\n"
     ]
    },
    {
     "name": "stderr",
     "output_type": "stream",
     "text": [
      "100%|███████████████████████████████████████████████████████████████████████████████| 804/804 [00:02<00:00, 298.99it/s]\n"
     ]
    },
    {
     "name": "stdout",
     "output_type": "stream",
     "text": [
      "Avg loss after epoch 20, is equal to 0.7682532108059766\n",
      "Recall@10 (test set) after epoch 20, is equal to 0.2423076923076923\n",
      "Running epoch 21\n"
     ]
    },
    {
     "name": "stderr",
     "output_type": "stream",
     "text": [
      "100%|███████████████████████████████████████████████████████████████████████████████| 804/804 [00:02<00:00, 328.91it/s]\n"
     ]
    },
    {
     "name": "stdout",
     "output_type": "stream",
     "text": [
      "Avg loss after epoch 21, is equal to 0.7350745005987195\n",
      "Recall@10 (test set) after epoch 21, is equal to 0.24615384615384617\n",
      "Running epoch 22\n"
     ]
    },
    {
     "name": "stderr",
     "output_type": "stream",
     "text": [
      "100%|███████████████████████████████████████████████████████████████████████████████| 804/804 [00:02<00:00, 363.45it/s]\n"
     ]
    },
    {
     "name": "stdout",
     "output_type": "stream",
     "text": [
      "Avg loss after epoch 22, is equal to 0.7040756781106091\n",
      "Recall@10 (test set) after epoch 22, is equal to 0.24230769230769234\n",
      "Running epoch 23\n"
     ]
    },
    {
     "name": "stderr",
     "output_type": "stream",
     "text": [
      "100%|███████████████████████████████████████████████████████████████████████████████| 804/804 [00:02<00:00, 366.62it/s]\n"
     ]
    },
    {
     "name": "stdout",
     "output_type": "stream",
     "text": [
      "Avg loss after epoch 23, is equal to 0.6751687396715724\n",
      "Recall@10 (test set) after epoch 23, is equal to 0.24615384615384617\n",
      "Running epoch 24\n"
     ]
    },
    {
     "name": "stderr",
     "output_type": "stream",
     "text": [
      "100%|███████████████████████████████████████████████████████████████████████████████| 804/804 [00:02<00:00, 348.16it/s]\n"
     ]
    },
    {
     "name": "stdout",
     "output_type": "stream",
     "text": [
      "Avg loss after epoch 24, is equal to 0.6482373328872993\n",
      "Recall@10 (test set) after epoch 24, is equal to 0.24615384615384617\n",
      "Running epoch 25\n"
     ]
    },
    {
     "name": "stderr",
     "output_type": "stream",
     "text": [
      "100%|███████████████████████████████████████████████████████████████████████████████| 804/804 [00:02<00:00, 293.65it/s]\n"
     ]
    },
    {
     "name": "stdout",
     "output_type": "stream",
     "text": [
      "Avg loss after epoch 25, is equal to 0.6231511986187706\n",
      "Recall@10 (test set) after epoch 25, is equal to 0.2538461538461539\n",
      "Running epoch 26\n"
     ]
    },
    {
     "name": "stderr",
     "output_type": "stream",
     "text": [
      "100%|███████████████████████████████████████████████████████████████████████████████| 804/804 [00:02<00:00, 327.26it/s]\n"
     ]
    },
    {
     "name": "stdout",
     "output_type": "stream",
     "text": [
      "Avg loss after epoch 26, is equal to 0.5997747589732229\n",
      "Recall@10 (test set) after epoch 26, is equal to 0.2538461538461539\n",
      "Running epoch 27\n"
     ]
    },
    {
     "name": "stderr",
     "output_type": "stream",
     "text": [
      "100%|███████████████████████████████████████████████████████████████████████████████| 804/804 [00:02<00:00, 370.92it/s]\n"
     ]
    },
    {
     "name": "stdout",
     "output_type": "stream",
     "text": [
      "Avg loss after epoch 27, is equal to 0.5779732502287835\n",
      "Recall@10 (test set) after epoch 27, is equal to 0.25811965811965815\n",
      "Running epoch 28\n"
     ]
    },
    {
     "name": "stderr",
     "output_type": "stream",
     "text": [
      "100%|███████████████████████████████████████████████████████████████████████████████| 804/804 [00:02<00:00, 372.74it/s]\n"
     ]
    },
    {
     "name": "stdout",
     "output_type": "stream",
     "text": [
      "Avg loss after epoch 28, is equal to 0.557618199049862\n",
      "Recall@10 (test set) after epoch 28, is equal to 0.26581196581196587\n",
      "Running epoch 29\n"
     ]
    },
    {
     "name": "stderr",
     "output_type": "stream",
     "text": [
      "100%|███████████████████████████████████████████████████████████████████████████████| 804/804 [00:02<00:00, 338.27it/s]\n"
     ]
    },
    {
     "name": "stdout",
     "output_type": "stream",
     "text": [
      "Avg loss after epoch 29, is equal to 0.538588505462561\n",
      "Recall@10 (test set) after epoch 29, is equal to 0.2696581196581197\n",
      "Running epoch 30\n"
     ]
    },
    {
     "name": "stderr",
     "output_type": "stream",
     "text": [
      "100%|███████████████████████████████████████████████████████████████████████████████| 804/804 [00:02<00:00, 316.17it/s]\n"
     ]
    },
    {
     "name": "stdout",
     "output_type": "stream",
     "text": [
      "Avg loss after epoch 30, is equal to 0.5207724788291389\n",
      "Recall@10 (test set) after epoch 30, is equal to 0.2696581196581197\n",
      "Running epoch 31\n"
     ]
    },
    {
     "name": "stderr",
     "output_type": "stream",
     "text": [
      "100%|███████████████████████████████████████████████████████████████████████████████| 804/804 [00:02<00:00, 309.48it/s]\n"
     ]
    },
    {
     "name": "stdout",
     "output_type": "stream",
     "text": [
      "Avg loss after epoch 31, is equal to 0.5040676228106846\n",
      "Recall@10 (test set) after epoch 31, is equal to 0.27735042735042736\n",
      "Running epoch 32\n"
     ]
    },
    {
     "name": "stderr",
     "output_type": "stream",
     "text": [
      "100%|███████████████████████████████████████████████████████████████████████████████| 804/804 [00:02<00:00, 316.61it/s]\n"
     ]
    },
    {
     "name": "stdout",
     "output_type": "stream",
     "text": [
      "Avg loss after epoch 32, is equal to 0.4883801287679832\n",
      "Recall@10 (test set) after epoch 32, is equal to 0.30427350427350425\n",
      "Running epoch 33\n"
     ]
    },
    {
     "name": "stderr",
     "output_type": "stream",
     "text": [
      "100%|███████████████████████████████████████████████████████████████████████████████| 804/804 [00:02<00:00, 309.26it/s]\n"
     ]
    },
    {
     "name": "stdout",
     "output_type": "stream",
     "text": [
      "Avg loss after epoch 33, is equal to 0.47362492681248186\n",
      "Recall@10 (test set) after epoch 33, is equal to 0.31581196581196586\n",
      "Running epoch 34\n"
     ]
    },
    {
     "name": "stderr",
     "output_type": "stream",
     "text": [
      "100%|███████████████████████████████████████████████████████████████████████████████| 804/804 [00:02<00:00, 314.32it/s]\n"
     ]
    },
    {
     "name": "stdout",
     "output_type": "stream",
     "text": [
      "Avg loss after epoch 34, is equal to 0.45972494071658426\n",
      "Recall@10 (test set) after epoch 34, is equal to 0.31581196581196586\n",
      "Running epoch 35\n"
     ]
    },
    {
     "name": "stderr",
     "output_type": "stream",
     "text": [
      "100%|███████████████████████████████████████████████████████████████████████████████| 804/804 [00:02<00:00, 332.66it/s]\n"
     ]
    },
    {
     "name": "stdout",
     "output_type": "stream",
     "text": [
      "Avg loss after epoch 35, is equal to 0.4466103311438955\n",
      "Recall@10 (test set) after epoch 35, is equal to 0.3311965811965812\n",
      "Running epoch 36\n"
     ]
    },
    {
     "name": "stderr",
     "output_type": "stream",
     "text": [
      "100%|███████████████████████████████████████████████████████████████████████████████| 804/804 [00:02<00:00, 335.37it/s]\n"
     ]
    },
    {
     "name": "stdout",
     "output_type": "stream",
     "text": [
      "Avg loss after epoch 36, is equal to 0.43421831006756\n",
      "Recall@10 (test set) after epoch 36, is equal to 0.3350427350427351\n",
      "Running epoch 37\n"
     ]
    },
    {
     "name": "stderr",
     "output_type": "stream",
     "text": [
      "100%|███████████████████████████████████████████████████████████████████████████████| 804/804 [00:02<00:00, 330.51it/s]\n"
     ]
    },
    {
     "name": "stdout",
     "output_type": "stream",
     "text": [
      "Avg loss after epoch 37, is equal to 0.42249206323939165\n",
      "Recall@10 (test set) after epoch 37, is equal to 0.3350427350427351\n",
      "Running epoch 38\n"
     ]
    },
    {
     "name": "stderr",
     "output_type": "stream",
     "text": [
      "100%|███████████████████████████████████████████████████████████████████████████████| 804/804 [00:02<00:00, 331.96it/s]\n"
     ]
    },
    {
     "name": "stdout",
     "output_type": "stream",
     "text": [
      "Avg loss after epoch 38, is equal to 0.41138019344967897\n",
      "Recall@10 (test set) after epoch 38, is equal to 0.34273504273504274\n",
      "Running epoch 39\n"
     ]
    },
    {
     "name": "stderr",
     "output_type": "stream",
     "text": [
      "100%|███████████████████████████████████████████████████████████████████████████████| 804/804 [00:02<00:00, 308.48it/s]\n"
     ]
    },
    {
     "name": "stdout",
     "output_type": "stream",
     "text": [
      "Avg loss after epoch 39, is equal to 0.40083628259868076\n",
      "Recall@10 (test set) after epoch 39, is equal to 0.35042735042735046\n",
      "Running epoch 40\n"
     ]
    },
    {
     "name": "stderr",
     "output_type": "stream",
     "text": [
      "100%|███████████████████████████████████████████████████████████████████████████████| 804/804 [00:02<00:00, 292.07it/s]"
     ]
    },
    {
     "name": "stdout",
     "output_type": "stream",
     "text": [
      "Avg loss after epoch 40, is equal to 0.39081827431721494\n",
      "Recall@10 (test set) after epoch 40, is equal to 0.35042735042735046\n"
     ]
    },
    {
     "name": "stderr",
     "output_type": "stream",
     "text": [
      "\n"
     ]
    }
   ],
   "source": [
    "losses, recalls = train_fn(model, optimizer, n_epochs, dataloader, verbose_n_steps=None)"
   ]
  },
  {
   "cell_type": "code",
   "execution_count": 41,
   "id": "364cd9e3-d9d9-403e-ae28-270e6e9d1e09",
   "metadata": {},
   "outputs": [
    {
     "data": {
      "image/png": "[encoded data removed]",
      "text/plain": [
       "<Figure size 1008x360 with 1 Axes>"
      ]
     },
     "metadata": {
      "needs_background": "light"
     },
     "output_type": "display_data"
    }
   ],
   "source": [
    "# plot training loss\n",
    "def plot_vector(vector, title=None, xlabel=\"epoch\", ylabel=\"loss\", figsize=(12,5)):\n",
    "    plt.figure(figsize=figsize)\n",
    "    plt.plot([i+1 for i in range(len(vector))],  vector, \"o\")\n",
    "    plt.xlabel(xlabel)\n",
    "    plt.ylabel(ylabel)\n",
    "    plt.xticks([i+1 for i in range(len(vector))])\n",
    "    plt.show()\n",
    "\n",
    "plot_vector(losses, ylabel=\"loss\", figsize=(14,5))"
   ]
  },
  {
   "cell_type": "code",
   "execution_count": 42,
   "id": "88563e8b-37c1-41c7-8562-8f544ae2a12a",
   "metadata": {},
   "outputs": [
    {
     "data": {
      "image/png": "[encoded data removed]",
      "text/plain": [
       "<Figure size 1008x360 with 1 Axes>"
      ]
     },
     "metadata": {
      "needs_background": "light"
     },
     "output_type": "display_data"
    }
   ],
   "source": [
    "# plot recall@10 on test set\n",
    "plot_vector(recalls, ylabel=\"Recall@10\", figsize=(14,5))"
   ]
  },
  {
   "cell_type": "code",
   "execution_count": 43,
   "id": "c0fb8e3f-31b1-4be0-9a76-b1f364f9f65f",
   "metadata": {},
   "outputs": [
    {
     "name": "stdout",
     "output_type": "stream",
     "text": [
      "Recall@5 = 0.31538461538461543\n",
      "Recall@10 = 0.35042735042735046\n",
      "Recall@30 = 0.48000679156622084\n"
     ]
    }
   ],
   "source": [
    "scored = score(model, positives_test_encoded, negatives_test_encoded)\n",
    "for k in [5,10, 30]:\n",
    "    recalls = [recall_k(k, pred) for pred in scored.values()]\n",
    "    mean_recall = np.mean(recalls)\n",
    "    print(f\"Recall@{k} = {mean_recall}\")"
   ]
  },
  {
   "cell_type": "markdown",
   "id": "ea64a3b3-5094-4758-82c3-9033b8ace307",
   "metadata": {},
   "source": [
    "### Train with sampling\n",
    "Here, we want to enrich training data with negative instances. There are many ways of sampling, but for simplicity we will focus on simplest approach - random sampling. It simply samples observations uniformly from (user, item) pairs. <br />\n",
    "\n",
    "**Exercise:** <br />\n",
    "For each interaction from train set sample one negative interaction with random sampling. Merge that with training data and train model with the same hyperparameters, for the same number of epochs and compare obtained results. <br />\n",
    "\n",
    "**Solution:**"
   ]
  },
  {
   "cell_type": "code",
   "execution_count": 45,
   "id": "6aac1684-3b51-4f99-8375-92f7bac6c136",
   "metadata": {},
   "outputs": [],
   "source": [
    "n_negatives = train.shape[0]\n",
    "users_sampled = np.random.choice(users, n_negatives)\n",
    "items_sampled = np.random.choice(items, n_negatives)\n",
    "negative_df = pd.DataFrame({\"userId\":users_sampled, \"movieId\":items_sampled, \"output\":np.zeros(n_negatives)})"
   ]
  },
  {
   "cell_type": "code",
   "execution_count": 46,
   "id": "21c2a363-2cab-4831-bc3c-5a7cd2b4bbee",
   "metadata": {},
   "outputs": [],
   "source": [
    "train_sampled = pd.concat([train[[\"userId\", \"movieId\"]], negative_df])\n",
    "train_sampled = train_sampled.fillna(1)\n",
    "train_sampled[\"users_mapped\"] = train_sampled[\"userId\"].apply(lambda x: u_to_ids[x])\n",
    "train_sampled[\"items_mapped\"] = train_sampled[\"movieId\"].apply(lambda x: i_to_ids[x])"
   ]
  },
  {
   "cell_type": "code",
   "execution_count": 52,
   "id": "3bbc89b9-eb7b-4881-a05c-870d2fac8f50",
   "metadata": {},
   "outputs": [],
   "source": [
    "dataset_sampled = MovieLensDataset(train_sampled)\n",
    "dataloader_sampled = DataLoader(dataset_sampled, batch_size=batch_size, shuffle=True, generator=gem)\n",
    "\n",
    "\n",
    "model_negatives = MatrixFactorization(n_factors=20, n_users=n_users, n_items=n_items)\n",
    "\n",
    "optimizer = torch.optim.Adam(model_negatives.parameters(), lr=lr)\n",
    "loss_function = nn.BCEWithLogitsLoss()"
   ]
  },
  {
   "cell_type": "code",
   "execution_count": 53,
   "id": "bf12f5f4-225e-46f8-a353-97df9d860e31",
   "metadata": {},
   "outputs": [
    {
     "name": "stdout",
     "output_type": "stream",
     "text": [
      "Running epoch 1\n"
     ]
    },
    {
     "name": "stderr",
     "output_type": "stream",
     "text": [
      "100%|█████████████████████████████████████████████████████████████████████████████| 1608/1608 [00:03<00:00, 408.64it/s]\n"
     ]
    },
    {
     "name": "stdout",
     "output_type": "stream",
     "text": [
      "Avg loss after epoch 1, is equal to 1.8333566987359216\n",
      "Recall@10 (test set) after epoch 1, is equal to 0.17735042735042736\n",
      "Running epoch 2\n"
     ]
    },
    {
     "name": "stderr",
     "output_type": "stream",
     "text": [
      "100%|█████████████████████████████████████████████████████████████████████████████| 1608/1608 [00:03<00:00, 418.38it/s]\n"
     ]
    },
    {
     "name": "stdout",
     "output_type": "stream",
     "text": [
      "Avg loss after epoch 2, is equal to 1.7072859640175888\n",
      "Recall@10 (test set) after epoch 2, is equal to 0.1735042735042735\n",
      "Running epoch 3\n"
     ]
    },
    {
     "name": "stderr",
     "output_type": "stream",
     "text": [
      "100%|█████████████████████████████████████████████████████████████████████████████| 1608/1608 [00:03<00:00, 455.56it/s]\n"
     ]
    },
    {
     "name": "stdout",
     "output_type": "stream",
     "text": [
      "Avg loss after epoch 3, is equal to 1.593676045378119\n",
      "Recall@10 (test set) after epoch 3, is equal to 0.17350427350427353\n",
      "Running epoch 4\n"
     ]
    },
    {
     "name": "stderr",
     "output_type": "stream",
     "text": [
      "100%|█████████████████████████████████████████████████████████████████████████████| 1608/1608 [00:04<00:00, 396.23it/s]\n"
     ]
    },
    {
     "name": "stdout",
     "output_type": "stream",
     "text": [
      "Avg loss after epoch 4, is equal to 1.4923153037240935\n",
      "Recall@10 (test set) after epoch 4, is equal to 0.17350427350427353\n",
      "Running epoch 5\n"
     ]
    },
    {
     "name": "stderr",
     "output_type": "stream",
     "text": [
      "100%|█████████████████████████████████████████████████████████████████████████████| 1608/1608 [00:04<00:00, 396.68it/s]\n"
     ]
    },
    {
     "name": "stdout",
     "output_type": "stream",
     "text": [
      "Avg loss after epoch 5, is equal to 1.4023181214984093\n",
      "Recall@10 (test set) after epoch 5, is equal to 0.17350427350427353\n",
      "Running epoch 6\n"
     ]
    },
    {
     "name": "stderr",
     "output_type": "stream",
     "text": [
      "100%|█████████████████████████████████████████████████████████████████████████████| 1608/1608 [00:03<00:00, 444.03it/s]\n"
     ]
    },
    {
     "name": "stdout",
     "output_type": "stream",
     "text": [
      "Avg loss after epoch 6, is equal to 1.3225132443674315\n",
      "Recall@10 (test set) after epoch 6, is equal to 0.16196581196581197\n",
      "Running epoch 7\n"
     ]
    },
    {
     "name": "stderr",
     "output_type": "stream",
     "text": [
      "100%|█████████████████████████████████████████████████████████████████████████████| 1608/1608 [00:04<00:00, 354.08it/s]\n"
     ]
    },
    {
     "name": "stdout",
     "output_type": "stream",
     "text": [
      "Avg loss after epoch 7, is equal to 1.251547110610896\n",
      "Recall@10 (test set) after epoch 7, is equal to 0.1658119658119658\n",
      "Running epoch 8\n"
     ]
    },
    {
     "name": "stderr",
     "output_type": "stream",
     "text": [
      "100%|█████████████████████████████████████████████████████████████████████████████| 1608/1608 [00:05<00:00, 275.45it/s]\n"
     ]
    },
    {
     "name": "stdout",
     "output_type": "stream",
     "text": [
      "Avg loss after epoch 8, is equal to 1.1882889209449214\n",
      "Recall@10 (test set) after epoch 8, is equal to 0.15427350427350428\n",
      "Running epoch 9\n"
     ]
    },
    {
     "name": "stderr",
     "output_type": "stream",
     "text": [
      "100%|█████████████████████████████████████████████████████████████████████████████| 1608/1608 [00:04<00:00, 370.62it/s]\n"
     ]
    },
    {
     "name": "stdout",
     "output_type": "stream",
     "text": [
      "Avg loss after epoch 9, is equal to 1.1315328127715933\n",
      "Recall@10 (test set) after epoch 9, is equal to 0.15427350427350428\n",
      "Running epoch 10\n"
     ]
    },
    {
     "name": "stderr",
     "output_type": "stream",
     "text": [
      "100%|█████████████████████████████████████████████████████████████████████████████| 1608/1608 [00:03<00:00, 433.61it/s]\n"
     ]
    },
    {
     "name": "stdout",
     "output_type": "stream",
     "text": [
      "Avg loss after epoch 10, is equal to 1.0802268872870098\n",
      "Recall@10 (test set) after epoch 10, is equal to 0.15427350427350428\n",
      "Running epoch 11\n"
     ]
    },
    {
     "name": "stderr",
     "output_type": "stream",
     "text": [
      "100%|█████████████████████████████████████████████████████████████████████████████| 1608/1608 [00:03<00:00, 485.70it/s]\n"
     ]
    },
    {
     "name": "stdout",
     "output_type": "stream",
     "text": [
      "Avg loss after epoch 11, is equal to 1.0334107478568966\n",
      "Recall@10 (test set) after epoch 11, is equal to 0.15854700854700854\n",
      "Running epoch 12\n"
     ]
    },
    {
     "name": "stderr",
     "output_type": "stream",
     "text": [
      "100%|█████████████████████████████████████████████████████████████████████████████| 1608/1608 [00:03<00:00, 488.07it/s]\n"
     ]
    },
    {
     "name": "stdout",
     "output_type": "stream",
     "text": [
      "Avg loss after epoch 12, is equal to 0.9903103403772141\n",
      "Recall@10 (test set) after epoch 12, is equal to 0.17735042735042736\n",
      "Running epoch 13\n"
     ]
    },
    {
     "name": "stderr",
     "output_type": "stream",
     "text": [
      "100%|█████████████████████████████████████████████████████████████████████████████| 1608/1608 [00:03<00:00, 497.18it/s]\n"
     ]
    },
    {
     "name": "stdout",
     "output_type": "stream",
     "text": [
      "Avg loss after epoch 13, is equal to 0.9504021142706783\n",
      "Recall@10 (test set) after epoch 13, is equal to 0.1854700854700855\n",
      "Running epoch 14\n"
     ]
    },
    {
     "name": "stderr",
     "output_type": "stream",
     "text": [
      "100%|█████████████████████████████████████████████████████████████████████████████| 1608/1608 [00:03<00:00, 473.62it/s]\n"
     ]
    },
    {
     "name": "stdout",
     "output_type": "stream",
     "text": [
      "Avg loss after epoch 14, is equal to 0.9132787494291367\n",
      "Recall@10 (test set) after epoch 14, is equal to 0.2047008547008547\n",
      "Running epoch 15\n"
     ]
    },
    {
     "name": "stderr",
     "output_type": "stream",
     "text": [
      "100%|█████████████████████████████████████████████████████████████████████████████| 1608/1608 [00:03<00:00, 463.60it/s]\n"
     ]
    },
    {
     "name": "stdout",
     "output_type": "stream",
     "text": [
      "Avg loss after epoch 15, is equal to 0.8786664663515728\n",
      "Recall@10 (test set) after epoch 15, is equal to 0.20085470085470086\n",
      "Running epoch 16\n"
     ]
    },
    {
     "name": "stderr",
     "output_type": "stream",
     "text": [
      "100%|█████████████████████████████████████████████████████████████████████████████| 1608/1608 [00:03<00:00, 469.67it/s]\n"
     ]
    },
    {
     "name": "stdout",
     "output_type": "stream",
     "text": [
      "Avg loss after epoch 16, is equal to 0.8463258795807265\n",
      "Recall@10 (test set) after epoch 16, is equal to 0.20854700854700856\n",
      "Running epoch 17\n"
     ]
    },
    {
     "name": "stderr",
     "output_type": "stream",
     "text": [
      "100%|█████████████████████████████████████████████████████████████████████████████| 1608/1608 [00:03<00:00, 501.93it/s]\n"
     ]
    },
    {
     "name": "stdout",
     "output_type": "stream",
     "text": [
      "Avg loss after epoch 17, is equal to 0.8160589653788162\n",
      "Recall@10 (test set) after epoch 17, is equal to 0.21239316239316242\n",
      "Running epoch 18\n"
     ]
    },
    {
     "name": "stderr",
     "output_type": "stream",
     "text": [
      "100%|█████████████████████████████████████████████████████████████████████████████| 1608/1608 [00:03<00:00, 503.57it/s]\n"
     ]
    },
    {
     "name": "stdout",
     "output_type": "stream",
     "text": [
      "Avg loss after epoch 18, is equal to 0.787673227499893\n",
      "Recall@10 (test set) after epoch 18, is equal to 0.23162393162393163\n",
      "Running epoch 19\n"
     ]
    },
    {
     "name": "stderr",
     "output_type": "stream",
     "text": [
      "100%|█████████████████████████████████████████████████████████████████████████████| 1608/1608 [00:03<00:00, 411.94it/s]\n"
     ]
    },
    {
     "name": "stdout",
     "output_type": "stream",
     "text": [
      "Avg loss after epoch 19, is equal to 0.7609878530082764\n",
      "Recall@10 (test set) after epoch 19, is equal to 0.23162393162393163\n",
      "Running epoch 20\n"
     ]
    },
    {
     "name": "stderr",
     "output_type": "stream",
     "text": [
      "100%|█████████████████████████████████████████████████████████████████████████████| 1608/1608 [00:03<00:00, 482.38it/s]\n"
     ]
    },
    {
     "name": "stdout",
     "output_type": "stream",
     "text": [
      "Avg loss after epoch 20, is equal to 0.7358561944132538\n",
      "Recall@10 (test set) after epoch 20, is equal to 0.27008547008547007\n",
      "Running epoch 21\n"
     ]
    },
    {
     "name": "stderr",
     "output_type": "stream",
     "text": [
      "100%|█████████████████████████████████████████████████████████████████████████████| 1608/1608 [00:03<00:00, 470.81it/s]\n"
     ]
    },
    {
     "name": "stdout",
     "output_type": "stream",
     "text": [
      "Avg loss after epoch 21, is equal to 0.7121487612878388\n",
      "Recall@10 (test set) after epoch 21, is equal to 0.2623931623931624\n",
      "Running epoch 22\n"
     ]
    },
    {
     "name": "stderr",
     "output_type": "stream",
     "text": [
      "100%|█████████████████████████████████████████████████████████████████████████████| 1608/1608 [00:03<00:00, 498.59it/s]\n"
     ]
    },
    {
     "name": "stdout",
     "output_type": "stream",
     "text": [
      "Avg loss after epoch 22, is equal to 0.6897368408946674\n",
      "Recall@10 (test set) after epoch 22, is equal to 0.25854700854700857\n",
      "Running epoch 23\n"
     ]
    },
    {
     "name": "stderr",
     "output_type": "stream",
     "text": [
      "100%|█████████████████████████████████████████████████████████████████████████████| 1608/1608 [00:03<00:00, 482.40it/s]\n"
     ]
    },
    {
     "name": "stdout",
     "output_type": "stream",
     "text": [
      "Avg loss after epoch 23, is equal to 0.6685247799091895\n",
      "Recall@10 (test set) after epoch 23, is equal to 0.2504273504273504\n",
      "Running epoch 24\n"
     ]
    },
    {
     "name": "stderr",
     "output_type": "stream",
     "text": [
      "100%|█████████████████████████████████████████████████████████████████████████████| 1608/1608 [00:03<00:00, 476.69it/s]\n"
     ]
    },
    {
     "name": "stdout",
     "output_type": "stream",
     "text": [
      "Avg loss after epoch 24, is equal to 0.6484151283230456\n",
      "Recall@10 (test set) after epoch 24, is equal to 0.261965811965812\n",
      "Running epoch 25\n"
     ]
    },
    {
     "name": "stderr",
     "output_type": "stream",
     "text": [
      "100%|█████████████████████████████████████████████████████████████████████████████| 1608/1608 [00:03<00:00, 481.29it/s]\n"
     ]
    },
    {
     "name": "stdout",
     "output_type": "stream",
     "text": [
      "Avg loss after epoch 25, is equal to 0.6293334925336074\n",
      "Recall@10 (test set) after epoch 25, is equal to 0.261965811965812\n",
      "Running epoch 26\n"
     ]
    },
    {
     "name": "stderr",
     "output_type": "stream",
     "text": [
      "100%|█████████████████████████████████████████████████████████████████████████████| 1608/1608 [00:03<00:00, 432.07it/s]\n"
     ]
    },
    {
     "name": "stdout",
     "output_type": "stream",
     "text": [
      "Avg loss after epoch 26, is equal to 0.6112068098347613\n",
      "Recall@10 (test set) after epoch 26, is equal to 0.25811965811965815\n",
      "Running epoch 27\n"
     ]
    },
    {
     "name": "stderr",
     "output_type": "stream",
     "text": [
      "100%|█████████████████████████████████████████████████████████████████████████████| 1608/1608 [00:03<00:00, 429.46it/s]\n"
     ]
    },
    {
     "name": "stdout",
     "output_type": "stream",
     "text": [
      "Avg loss after epoch 27, is equal to 0.5939691411406742\n",
      "Recall@10 (test set) after epoch 27, is equal to 0.2696581196581197\n",
      "Running epoch 28\n"
     ]
    },
    {
     "name": "stderr",
     "output_type": "stream",
     "text": [
      "100%|█████████████████████████████████████████████████████████████████████████████| 1608/1608 [00:03<00:00, 475.59it/s]\n"
     ]
    },
    {
     "name": "stdout",
     "output_type": "stream",
     "text": [
      "Avg loss after epoch 28, is equal to 0.5775583270936085\n",
      "Recall@10 (test set) after epoch 28, is equal to 0.2696581196581197\n",
      "Running epoch 29\n"
     ]
    },
    {
     "name": "stderr",
     "output_type": "stream",
     "text": [
      "100%|█████████████████████████████████████████████████████████████████████████████| 1608/1608 [00:03<00:00, 431.61it/s]\n"
     ]
    },
    {
     "name": "stdout",
     "output_type": "stream",
     "text": [
      "Avg loss after epoch 29, is equal to 0.5619279752258108\n",
      "Recall@10 (test set) after epoch 29, is equal to 0.2696581196581197\n",
      "Running epoch 30\n"
     ]
    },
    {
     "name": "stderr",
     "output_type": "stream",
     "text": [
      "100%|█████████████████████████████████████████████████████████████████████████████| 1608/1608 [00:03<00:00, 463.63it/s]\n"
     ]
    },
    {
     "name": "stdout",
     "output_type": "stream",
     "text": [
      "Avg loss after epoch 30, is equal to 0.5470277323950732\n",
      "Recall@10 (test set) after epoch 30, is equal to 0.27350427350427353\n",
      "Running epoch 31\n"
     ]
    },
    {
     "name": "stderr",
     "output_type": "stream",
     "text": [
      "100%|█████████████████████████████████████████████████████████████████████████████| 1608/1608 [00:03<00:00, 446.91it/s]\n"
     ]
    },
    {
     "name": "stdout",
     "output_type": "stream",
     "text": [
      "Avg loss after epoch 31, is equal to 0.5328121721663623\n",
      "Recall@10 (test set) after epoch 31, is equal to 0.27350427350427353\n",
      "Running epoch 32\n"
     ]
    },
    {
     "name": "stderr",
     "output_type": "stream",
     "text": [
      "100%|█████████████████████████████████████████████████████████████████████████████| 1608/1608 [00:03<00:00, 478.10it/s]\n"
     ]
    },
    {
     "name": "stdout",
     "output_type": "stream",
     "text": [
      "Avg loss after epoch 32, is equal to 0.5192431307230535\n",
      "Recall@10 (test set) after epoch 32, is equal to 0.28119658119658114\n",
      "Running epoch 33\n"
     ]
    },
    {
     "name": "stderr",
     "output_type": "stream",
     "text": [
      "100%|█████████████████████████████████████████████████████████████████████████████| 1608/1608 [00:03<00:00, 483.31it/s]\n"
     ]
    },
    {
     "name": "stdout",
     "output_type": "stream",
     "text": [
      "Avg loss after epoch 33, is equal to 0.5062806647230832\n",
      "Recall@10 (test set) after epoch 33, is equal to 0.2773504273504273\n",
      "Running epoch 34\n"
     ]
    },
    {
     "name": "stderr",
     "output_type": "stream",
     "text": [
      "100%|█████████████████████████████████████████████████████████████████████████████| 1608/1608 [00:03<00:00, 475.51it/s]\n"
     ]
    },
    {
     "name": "stdout",
     "output_type": "stream",
     "text": [
      "Avg loss after epoch 34, is equal to 0.49389058988085416\n",
      "Recall@10 (test set) after epoch 34, is equal to 0.2811965811965812\n",
      "Running epoch 35\n"
     ]
    },
    {
     "name": "stderr",
     "output_type": "stream",
     "text": [
      "100%|█████████████████████████████████████████████████████████████████████████████| 1608/1608 [00:03<00:00, 463.27it/s]\n"
     ]
    },
    {
     "name": "stdout",
     "output_type": "stream",
     "text": [
      "Avg loss after epoch 35, is equal to 0.48204195382506204\n",
      "Recall@10 (test set) after epoch 35, is equal to 0.2811965811965812\n",
      "Running epoch 36\n"
     ]
    },
    {
     "name": "stderr",
     "output_type": "stream",
     "text": [
      "100%|█████████████████████████████████████████████████████████████████████████████| 1608/1608 [00:03<00:00, 475.92it/s]\n"
     ]
    },
    {
     "name": "stdout",
     "output_type": "stream",
     "text": [
      "Avg loss after epoch 36, is equal to 0.4707014945362483\n",
      "Recall@10 (test set) after epoch 36, is equal to 0.27735042735042736\n",
      "Running epoch 37\n"
     ]
    },
    {
     "name": "stderr",
     "output_type": "stream",
     "text": [
      "100%|█████████████████████████████████████████████████████████████████████████████| 1608/1608 [00:03<00:00, 469.82it/s]\n"
     ]
    },
    {
     "name": "stdout",
     "output_type": "stream",
     "text": [
      "Avg loss after epoch 37, is equal to 0.459842695616191\n",
      "Recall@10 (test set) after epoch 37, is equal to 0.2773504273504273\n",
      "Running epoch 38\n"
     ]
    },
    {
     "name": "stderr",
     "output_type": "stream",
     "text": [
      "100%|█████████████████████████████████████████████████████████████████████████████| 1608/1608 [00:03<00:00, 418.95it/s]\n"
     ]
    },
    {
     "name": "stdout",
     "output_type": "stream",
     "text": [
      "Avg loss after epoch 38, is equal to 0.44944277686103484\n",
      "Recall@10 (test set) after epoch 38, is equal to 0.2811965811965812\n",
      "Running epoch 39\n"
     ]
    },
    {
     "name": "stderr",
     "output_type": "stream",
     "text": [
      "100%|█████████████████████████████████████████████████████████████████████████████| 1608/1608 [00:03<00:00, 470.90it/s]\n"
     ]
    },
    {
     "name": "stdout",
     "output_type": "stream",
     "text": [
      "Avg loss after epoch 39, is equal to 0.4394690848527059\n",
      "Recall@10 (test set) after epoch 39, is equal to 0.2811965811965812\n",
      "Running epoch 40\n"
     ]
    },
    {
     "name": "stderr",
     "output_type": "stream",
     "text": [
      "100%|█████████████████████████████████████████████████████████████████████████████| 1608/1608 [00:03<00:00, 504.34it/s]"
     ]
    },
    {
     "name": "stdout",
     "output_type": "stream",
     "text": [
      "Avg loss after epoch 40, is equal to 0.42990228001413516\n",
      "Recall@10 (test set) after epoch 40, is equal to 0.2811965811965812\n"
     ]
    },
    {
     "name": "stderr",
     "output_type": "stream",
     "text": [
      "\n"
     ]
    }
   ],
   "source": [
    "losses, recalls = train_fn(model_negatives, optimizer, n_epochs, dataloader=dataloader_sampled)"
   ]
  },
  {
   "cell_type": "code",
   "execution_count": 54,
   "id": "fb3dfbeb-5ee9-461e-807c-a5cd5fec13e9",
   "metadata": {},
   "outputs": [
    {
     "data": {
      "image/png": "[encoded data removed]",
      "text/plain": [
       "<Figure size 1008x360 with 1 Axes>"
      ]
     },
     "metadata": {
      "needs_background": "light"
     },
     "output_type": "display_data"
    }
   ],
   "source": [
    "# plot loss on train set\n",
    "plot_vector(losses, ylabel=\"loss\", figsize=(14,5))"
   ]
  },
  {
   "cell_type": "code",
   "execution_count": 55,
   "id": "44351dba-2dc8-4ef6-9c36-5dea456f6814",
   "metadata": {},
   "outputs": [
    {
     "data": {
      "image/png": "[encoded data removed]",
      "text/plain": [
       "<Figure size 1008x360 with 1 Axes>"
      ]
     },
     "metadata": {
      "needs_background": "light"
     },
     "output_type": "display_data"
    }
   ],
   "source": [
    "# plot recall@10 on test set\n",
    "plot_vector(recalls, ylabel=\"Recall@10\", figsize=(14,5))"
   ]
  },
  {
   "cell_type": "code",
   "execution_count": 57,
   "id": "e54f2237-75a9-4d36-98ea-a0791f22c803",
   "metadata": {},
   "outputs": [
    {
     "name": "stdout",
     "output_type": "stream",
     "text": [
      "Recall@5 = 0.2923076923076923\n",
      "Recall@10 = 0.2811965811965812\n",
      "Recall@30 = 0.42681061824536726\n"
     ]
    }
   ],
   "source": [
    "scored = score(model_negatives, positives_test_encoded, negatives_test_encoded)\n",
    "for k in [5,10, 30]:\n",
    "    recalls = [recall_k(k, pred) for pred in scored.values()]\n",
    "    mean_recall = np.mean(recalls)\n",
    "    print(f\"Recall@{k} = {mean_recall}\")"
   ]
  },
  {
   "cell_type": "markdown",
   "id": "68d53116-4907-494b-81a1-2eb4e387565a",
   "metadata": {},
   "source": [
    "Results are quite suprising. It looks like adding negatives does not improve model performance. There is of course more to it. Random sampling is simplest and weakest sampling methods. Using more advanced sampling techniques (like popularity sampling, where we sample items according to their popularity) could lead to different results. However, from our experiment we can conclude that adding negatives wasn't benefitial."
   ]
  },
  {
   "cell_type": "markdown",
   "id": "8c4eddea-326f-4d1c-b05d-4a7a65476069",
   "metadata": {},
   "source": [
    "## Conclusions"
   ]
  },
  {
   "cell_type": "code",
   "execution_count": null,
   "id": "f8660192-5074-4ac8-93e1-642dae60c832",
   "metadata": {},
   "outputs": [],
   "source": []
  },
  {
   "cell_type": "code",
   "execution_count": null,
   "id": "dd31c0d5-1507-42f8-96bd-d16b167129dc",
   "metadata": {},
   "outputs": [],
   "source": []
  }
 ],
 "metadata": {
  "kernelspec": {
   "display_name": "Python 3 (ipykernel)",
   "language": "python",
   "name": "python3"
  },
  "language_info": {
   "codemirror_mode": {
    "name": "ipython",
    "version": 3
   },
   "file_extension": ".py",
   "mimetype": "text/x-python",
   "name": "python",
   "nbconvert_exporter": "python",
   "pygments_lexer": "ipython3",
   "version": "3.8.12"
  }
 },
 "nbformat": 4,
 "nbformat_minor": 5
}
