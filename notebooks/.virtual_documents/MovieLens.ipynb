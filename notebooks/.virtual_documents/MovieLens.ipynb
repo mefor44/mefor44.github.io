import pandas as pd


get_ipython().getoutput("dir "./../data/"")


df = pd.read_csv('./../data/ml-latest-small.zip', compression='zip', header=0, sep=',', quotechar='"')


import zipfile
import pandas as pd
with zipfile.ZipFile("./../data/ml-latest-small.zip") as z:
    with z.open("ml-latest-small/ratings.csv") as f:
        ratings = pd.read_csv(f, delimiter=",")


print(ratings.head())    # print the first 5 rows












