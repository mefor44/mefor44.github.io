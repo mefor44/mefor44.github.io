{
 "cells": [
  {
   "cell_type": "code",
   "execution_count": 1,
   "id": "0fc9a677-aa71-45be-91f1-a00db6bfaa4e",
   "metadata": {},
   "outputs": [],
   "source": [
    "import pandas as pd\n",
    "import torch\n",
    "import torch.nn as nn\n",
    "from torch.utils.data import Dataset, DataLoader\n",
    "import datetime as dt\n",
    "import matplotlib.pyplot as plt\n",
    "import numpy as np\n",
    "from collections import defaultdict\n",
    "from tqdm import tqdm"
   ]
  },
  {
   "cell_type": "markdown",
   "id": "87ca66ec-2f6b-43c1-abc1-13c370bb7137",
   "metadata": {},
   "source": [
    "## Read the data\n",
    "Read the data, then apply binarization. We convert the ratings to '1' when rating value is higher than 3. "
   ]
  },
  {
   "cell_type": "code",
   "execution_count": 2,
   "id": "a3bd0bc9-2d9c-4d10-9683-a3f3df7ef326",
   "metadata": {},
   "outputs": [],
   "source": [
    "import zipfile\n",
    "import pandas as pd\n",
    "with zipfile.ZipFile(\"./../data/ml-latest-small.zip\") as z:\n",
    "    with z.open(\"ml-latest-small/ratings.csv\") as f:\n",
    "        ratings = pd.read_csv(f, delimiter=\",\")"
   ]
  },
  {
   "cell_type": "code",
   "execution_count": 3,
   "id": "102f1e92-c450-4b87-be27-ad29a712d080",
   "metadata": {},
   "outputs": [
    {
     "data": {
      "text/html": [
       "<div>\n",
       "<style scoped>\n",
       "    .dataframe tbody tr th:only-of-type {\n",
       "        vertical-align: middle;\n",
       "    }\n",
       "\n",
       "    .dataframe tbody tr th {\n",
       "        vertical-align: top;\n",
       "    }\n",
       "\n",
       "    .dataframe thead th {\n",
       "        text-align: right;\n",
       "    }\n",
       "</style>\n",
       "<table border=\"1\" class=\"dataframe\">\n",
       "  <thead>\n",
       "    <tr style=\"text-align: right;\">\n",
       "      <th></th>\n",
       "      <th>userId</th>\n",
       "      <th>movieId</th>\n",
       "      <th>rating</th>\n",
       "      <th>timestamp</th>\n",
       "    </tr>\n",
       "  </thead>\n",
       "  <tbody>\n",
       "    <tr>\n",
       "      <th>0</th>\n",
       "      <td>1</td>\n",
       "      <td>1</td>\n",
       "      <td>4.0</td>\n",
       "      <td>964982703</td>\n",
       "    </tr>\n",
       "    <tr>\n",
       "      <th>1</th>\n",
       "      <td>1</td>\n",
       "      <td>3</td>\n",
       "      <td>4.0</td>\n",
       "      <td>964981247</td>\n",
       "    </tr>\n",
       "    <tr>\n",
       "      <th>2</th>\n",
       "      <td>1</td>\n",
       "      <td>6</td>\n",
       "      <td>4.0</td>\n",
       "      <td>964982224</td>\n",
       "    </tr>\n",
       "    <tr>\n",
       "      <th>3</th>\n",
       "      <td>1</td>\n",
       "      <td>47</td>\n",
       "      <td>5.0</td>\n",
       "      <td>964983815</td>\n",
       "    </tr>\n",
       "    <tr>\n",
       "      <th>4</th>\n",
       "      <td>1</td>\n",
       "      <td>50</td>\n",
       "      <td>5.0</td>\n",
       "      <td>964982931</td>\n",
       "    </tr>\n",
       "  </tbody>\n",
       "</table>\n",
       "</div>"
      ],
      "text/plain": [
       "   userId  movieId  rating  timestamp\n",
       "0       1        1     4.0  964982703\n",
       "1       1        3     4.0  964981247\n",
       "2       1        6     4.0  964982224\n",
       "3       1       47     5.0  964983815\n",
       "4       1       50     5.0  964982931"
      ]
     },
     "execution_count": 3,
     "metadata": {},
     "output_type": "execute_result"
    }
   ],
   "source": [
    "ratings.head()"
   ]
  },
  {
   "cell_type": "code",
   "execution_count": 4,
   "id": "358a12ac-dbe9-4a9e-b7e7-dac4ec8447cd",
   "metadata": {},
   "outputs": [
    {
     "data": {
      "text/plain": [
       "((100836, 6), (61716, 6))"
      ]
     },
     "execution_count": 4,
     "metadata": {},
     "output_type": "execute_result"
    }
   ],
   "source": [
    "ratings['datetime'] = ratings['timestamp'].apply(lambda x: dt.datetime.fromtimestamp(x / 1000.0))\n",
    "ratings[\"date\"] = pd.to_datetime(ratings['datetime']).dt.date\n",
    "interactions = ratings[ratings.rating > 3]\n",
    "ratings.shape, interactions.shape"
   ]
  },
  {
   "cell_type": "code",
   "execution_count": 5,
   "id": "2d84bb7c-3b06-4ea6-be35-d10a680b8cba",
   "metadata": {},
   "outputs": [
    {
     "data": {
      "text/plain": [
       "(609, 7363)"
      ]
     },
     "execution_count": 5,
     "metadata": {},
     "output_type": "execute_result"
    }
   ],
   "source": [
    "interactions.userId.nunique(), interactions.movieId.nunique()"
   ]
  },
  {
   "cell_type": "markdown",
   "id": "c12b83b4-e43c-4ad3-a91a-2a363e0a4e66",
   "metadata": {},
   "source": [
    "## Split the data\n",
    "Split the data based on timestamp. First let's inspect number of interactions per day in our dataset."
   ]
  },
  {
   "cell_type": "code",
   "execution_count": 6,
   "id": "411447ca-c542-41af-b340-206b2620b082",
   "metadata": {},
   "outputs": [
    {
     "data": {
      "image/png": "[encoded data removed]",
      "text/plain": [
       "<Figure size 432x288 with 1 Axes>"
      ]
     },
     "metadata": {
      "needs_background": "light"
     },
     "output_type": "display_data"
    }
   ],
   "source": [
    "n_interactions = interactions.groupby(\"date\").agg(n_obs=(\"userId\",\"count\")).reset_index()\n",
    "n_interactions\n",
    "plt.bar(n_interactions.date, n_interactions.n_obs)\n",
    "plt.title(\"Number of interactions in given day\")\n",
    "plt.ylabel(\"n interactions\")\n",
    "plt.xticks(rotation=45)\n",
    "plt.show()"
   ]
  },
  {
   "cell_type": "markdown",
   "id": "a494f3cb-d23d-423b-afc0-ad1311eb28e8",
   "metadata": {},
   "source": [
    "Let's split the data on the last day. So in our example this will be day \"1970-01-18\". <br />\n",
    "**Question: <br /> What are the advantages and disadvantages of such split compared to other types of splits? For other types of splitting consider random split* and leave-one-out split\\**.** <br />\n",
    "\\* Random split is just randomly selecting interactions for test set. <br />\n",
    "\\** Leave-one-out split is selecting just one item for each user. Assume that we know temporal ordering and in such case leave-one-out selects last item from each user interaction history. Recall, that's not the same ase leave-one-out cross validation strategy!!!"
   ]
  },
  {
   "cell_type": "markdown",
   "id": "7467de6e-e060-434f-9a8a-f0ee5eac076b",
   "metadata": {},
   "source": [
    "**Answer:** TODO"
   ]
  },
  {
   "cell_type": "code",
   "execution_count": 7,
   "id": "7e5f1d42-64e2-42f9-99c7-bce1500e4221",
   "metadata": {},
   "outputs": [
    {
     "data": {
      "text/plain": [
       "(Timestamp('1970-01-17 23:59:44.741000'),\n",
       " 51431,\n",
       " Timestamp('1970-01-18 00:04:28.014000'),\n",
       " 10285)"
      ]
     },
     "execution_count": 7,
     "metadata": {},
     "output_type": "execute_result"
    }
   ],
   "source": [
    "split_date = \"1970-01-18\"\n",
    "train = interactions[interactions.datetime < split_date]\n",
    "test = interactions[interactions.datetime >= split_date]\n",
    "train.datetime.max(), len(train), test.datetime.min(), len(test)"
   ]
  },
  {
   "cell_type": "markdown",
   "id": "bff8d6bb-684a-4add-a1dc-8ba353f957e0",
   "metadata": {},
   "source": [
    "Our train and test datasets look valid. We have around 50k and 10k observations in train and test, respectively. Due to the nature of choosen split latter number can change. <br />\n",
    "**Question: <br />\n",
    "Why is that?**"
   ]
  },
  {
   "cell_type": "markdown",
   "id": "5cebbaf4-1e7e-4ae8-84b4-91f3a2b2cbf8",
   "metadata": {},
   "source": [
    "**Answer:** <br />\n",
    "We haven't checked if all users (or items) from test set have at least one interaction in train set. If there is no interaction for given user / item in train set the model won't be able to learn how to generate recommendations for given user or item. Therefore, we may need to remove users (or items) which are not present in train set"
   ]
  },
  {
   "cell_type": "code",
   "execution_count": 8,
   "id": "c9b77e97-aa41-4f45-a119-1e69d3761b22",
   "metadata": {},
   "outputs": [
    {
     "name": "stderr",
     "output_type": "stream",
     "text": [
      "C:\\Users\\marzecm\\AppData\\Local\\Temp\\ipykernel_14972\\1918217346.py:7: SettingWithCopyWarning: \n",
      "A value is trying to be set on a copy of a slice from a DataFrame.\n",
      "Try using .loc[row_indexer,col_indexer] = value instead\n",
      "\n",
      "See the caveats in the documentation: https://pandas.pydata.org/pandas-docs/stable/user_guide/indexing.html#returning-a-view-versus-a-copy\n",
      "  train[\"users_mapped\"] = train[\"userId\"].apply(lambda x: u_to_ids[x])\n",
      "C:\\Users\\marzecm\\AppData\\Local\\Temp\\ipykernel_14972\\1918217346.py:8: SettingWithCopyWarning: \n",
      "A value is trying to be set on a copy of a slice from a DataFrame.\n",
      "Try using .loc[row_indexer,col_indexer] = value instead\n",
      "\n",
      "See the caveats in the documentation: https://pandas.pydata.org/pandas-docs/stable/user_guide/indexing.html#returning-a-view-versus-a-copy\n",
      "  train[\"items_mapped\"] = train[\"movieId\"].apply(lambda x: i_to_ids[x])\n"
     ]
    },
    {
     "data": {
      "text/plain": [
       "(532, 6236)"
      ]
     },
     "execution_count": 8,
     "metadata": {},
     "output_type": "execute_result"
    }
   ],
   "source": [
    "users, items = train.userId.unique(), train.movieId.unique()\n",
    "n_users, n_items = len(users), len(items)\n",
    "users_df = pd.DataFrame(users, columns=[\"userId\"])\n",
    "items_df = pd.DataFrame(items, columns=[\"movieId\"])\n",
    "u_to_ids = {user:idx for idx,user in enumerate(users)}\n",
    "i_to_ids = {item:idx for idx,item in enumerate(items)}\n",
    "train[\"users_mapped\"] = train[\"userId\"].apply(lambda x: u_to_ids[x])\n",
    "train[\"items_mapped\"] = train[\"movieId\"].apply(lambda x: i_to_ids[x])\n",
    "n_users, n_items"
   ]
  },
  {
   "cell_type": "code",
   "execution_count": 9,
   "id": "fefb075e-0219-438e-85c3-3f6bca87b02a",
   "metadata": {},
   "outputs": [
    {
     "name": "stdout",
     "output_type": "stream",
     "text": [
      "Test n obs before merge = 10285\n",
      "Test n obs after merge = 803\n"
     ]
    }
   ],
   "source": [
    "print(f\"Test n obs before merge = {test.shape[0]}\")\n",
    "test_valid = test.merge(users_df, on=\"userId\").merge(items_df, on=\"movieId\")\n",
    "print(f\"Test n obs after merge = {test_valid.shape[0]}\")"
   ]
  },
  {
   "cell_type": "markdown",
   "id": "283859ee-e4a9-4561-9c05-331567dd0a6e",
   "metadata": {},
   "source": [
    "It looks like we have removed more than 90% of test set! This is very rare situation, but we are working on educational dataset, so this is not that important. It is just a subset of the whole MovieLens dataset, and we don't know how exactly the data was collected."
   ]
  },
  {
   "cell_type": "markdown",
   "id": "9008680a-daad-4530-a3e5-fa4ebdaf0d81",
   "metadata": {},
   "source": [
    "## Model\n",
    "In currect section we will implement Matrix Factorization model (and Neural Matrix Factorization model) \n",
    "### Matrix Factorization\n",
    "**Exercise:**<br /> Implement matrix factorization model. Use the cell below as a guide (change given functions)."
   ]
  },
  {
   "cell_type": "code",
   "execution_count": 10,
   "id": "ad3128c4-2259-4f08-a5c6-cb6e3c7d953e",
   "metadata": {},
   "outputs": [],
   "source": [
    "class MF(nn.Module):\n",
    "    def __init__(self, n_factors=None):\n",
    "        pass\n",
    "    \n",
    "    def forward(self, user, item):\n",
    "        pass\n",
    "        "
   ]
  },
  {
   "cell_type": "code",
   "execution_count": 11,
   "id": "3b1ca497-8951-49a8-b9f5-0e8c332a1ec9",
   "metadata": {},
   "outputs": [],
   "source": [
    "class MatrixFactorization(nn.Module):\n",
    "    def __init__(self, n_factors=None, n_users=None, n_items=None):\n",
    "        super().__init__()\n",
    "        self.n_factors = n_factors\n",
    "        self.users = nn.Embedding(n_users, n_factors)\n",
    "        self.items = nn.Embedding(n_items, n_factors)\n",
    "    \n",
    "    def forward(self, user, item):\n",
    "        user_emb, item_emb = self.users(user), self.items(item)\n",
    "        return (user_emb * item_emb).sum(dim=1)"
   ]
  },
  {
   "cell_type": "markdown",
   "id": "4b1d3af9-43f7-4ddc-9893-f2505bbf1230",
   "metadata": {},
   "source": [
    "### Neural Matrix Factorization"
   ]
  },
  {
   "cell_type": "code",
   "execution_count": 12,
   "id": "7633272b-748a-4ef0-9a72-ce90bc8c6916",
   "metadata": {},
   "outputs": [],
   "source": [
    "# TODO"
   ]
  },
  {
   "cell_type": "markdown",
   "id": "7ba20112-8141-4ec5-af17-0723f487ac39",
   "metadata": {
    "tags": []
   },
   "source": [
    "## Evaluation\n",
    "Evaluation of the recommender system can be performed in various settings. The two main ways to do so are online evaluation and offline evaluation. The online evaluation uses a continuous stream of users feedback to access system performance. In practice, it is often difficult to design settings allowing for such evaluation. Offline evaluation is based on historical data and it is the most common way of evaluating recommender system models. When designing evaluation methodology for a recommender system, we have to consider our goals. In the early stages of research in this field, calculating RMSE, MSE or MAE (Mean Absolute Error) was a very popular way of accessing the performance of the recommender system. This was, of course, connected with the data availability - the main datasets available online consisted of explicit ranking. Therefore, recommendation problem was often treated as a regression problem so typical regression metrics were used. When the data was in a binary form - metrics based on classification were used. The current standard are ranking based metrics. They give the biggest weights to the items placed at the top of the ranking list, which mimics the goal of top-k recommendation. <br /> In this tutorial we will focus on **Recall@k** which is a metric build upon Recall used for standard classification problems. For a given user we can define: $$Recall@k = \\frac{number\\ of\\ relevant\\ items}{total\\ number\\ of\\ items},$$ the number $k$ is the length of the recommendation list. To calculate Recall@k for the whole dataset we average the values of recall for each user. <br />\n",
    "\n",
    "As we don't have negative interactions we can sample (again ;)) negatives for users from test set. For each user we sample 100 items, and consider them negative. Then if we want to calculate Recall@10 for user $u$ with two items in test set, we need to score all 102 items, and order them accordingly to obtained scores (higher score means higher probability of interaction). For Recall@10 we need to check how many of these two relevant items are in top-10 recommendation list and divide it by the total number of relevant items for this user (=2 in this case). \n",
    "\n",
    "\n",
    "**Exercise:**<br />\n",
    "Implement function for calculating the recall for a given user. Then sample 100 negative items for each user (items have to be different from what is in given user's test set). Calculate recall at cutoffs k=5,10,30 for untrained model. Note: Your recall function doesn't have to have specific arguments defined below, but the solution will refer to them."
   ]
  },
  {
   "cell_type": "code",
   "execution_count": 14,
   "id": "e37e071c-2168-43c6-8da0-06cee6c87853",
   "metadata": {},
   "outputs": [],
   "source": [
    "def recall_k(k=10, annotated_preds=[]):\n",
    "    pass\n",
    "    # k - cutoff value\n",
    "    # preds - list with tuples (probability, 0/1) indicating predicted scores and label"
   ]
  },
  {
   "cell_type": "markdown",
   "id": "ecc168ee-47e0-4103-8a17-7c9f8da92e2f",
   "metadata": {},
   "source": [
    "**Solution:**"
   ]
  },
  {
   "cell_type": "code",
   "execution_count": 15,
   "id": "f294a451-b060-4301-a59c-3b84705e1e8a",
   "metadata": {},
   "outputs": [],
   "source": [
    "test_positives = test_valid.groupby(\"userId\")[\"movieId\"].agg(lambda x: x.tolist())\n",
    "\n",
    "items_set = set(items)\n",
    "positives_test = {}\n",
    "negatives_test = {}\n",
    "for u,i_pos in zip(test_positives.index, test_positives):\n",
    "    sampled = np.random.choice(list(items_set - set(i_pos)), size=100, replace=False)\n",
    "    positives_test[u] = i_pos\n",
    "    negatives_test[u] = sampled\n",
    "    \n",
    "# encode users and items for model\n",
    "positives_test_encoded = {}\n",
    "negatives_test_encoded = {}\n",
    "for u,itms in positives_test.items():\n",
    "    positives_test_encoded[u_to_ids[u]] = [i_to_ids[i] for i in itms]\n",
    "for u,itms in negatives_test.items():\n",
    "    negatives_test_encoded[u_to_ids[u]] = [i_to_ids[i] for i in itms]"
   ]
  },
  {
   "cell_type": "code",
   "execution_count": 16,
   "id": "22d2394a-dab0-4458-b775-0596f302d38c",
   "metadata": {},
   "outputs": [],
   "source": [
    "# score positives and negatives\n",
    "def score(model, positives_test_encoded, negatives_test_encoded):\n",
    "    scored = defaultdict(list)\n",
    "    for u, itms in positives_test_encoded.items():\n",
    "        u_tensor = torch.tensor([u]).repeat(len(itms))\n",
    "        itms = torch.tensor(itms)\n",
    "        # evaluate model:\n",
    "        model.eval()\n",
    "        with torch.no_grad():\n",
    "            preds = model(u_tensor, itms)\n",
    "        for p in preds:\n",
    "            scored[u].append((p.item(),1))\n",
    "\n",
    "    for u, itms in negatives_test_encoded.items():\n",
    "        u_tensor = torch.tensor([u]).repeat(len(itms))\n",
    "        itms = torch.tensor(itms)\n",
    "        # evaluate model:\n",
    "        model.eval()\n",
    "        with torch.no_grad():\n",
    "            preds = model(u_tensor, itms)\n",
    "        for p in preds:\n",
    "            scored[u].append((p.item(),0))\n",
    "    return scored"
   ]
  },
  {
   "cell_type": "code",
   "execution_count": 17,
   "id": "386bc257-3bc0-4f65-a733-f3a0ec3d3693",
   "metadata": {},
   "outputs": [],
   "source": [
    "def recall_k(k=10, annotated_preds=[]):\n",
    "    # k - cutoff value\n",
    "    # preds - list with tuples (probability, 0/1) indicating predicted scores and label\n",
    "    n = min(k, sum([i[1] for i in annotated_preds]))\n",
    "    s = sorted(annotated_preds, key=lambda x: x[0], reverse=True)\n",
    "    r = sum([i[1] for i in s[:k]])\n",
    "    return r / n"
   ]
  },
  {
   "cell_type": "code",
   "execution_count": 19,
   "id": "7e7da98e-5a6e-44e4-b20a-8d7b7867f04d",
   "metadata": {},
   "outputs": [
    {
     "name": "stdout",
     "output_type": "stream",
     "text": [
      "Recall@5 = 0.2076923076923077\n",
      "Recall@10 = 0.2192307692307692\n",
      "Recall@30 = 0.2918701492828226\n"
     ]
    }
   ],
   "source": [
    "# init random model\n",
    "model = MatrixFactorization(n_factors=20, n_users=n_users, n_items=n_items)\n",
    "scored = score(model, positives_test_encoded, negatives_test_encoded)\n",
    "for k in [5,10, 30]:\n",
    "    recalls = [recall_k(k, pred) for pred in scored.values()]\n",
    "    mean_recall = np.mean(recalls)\n",
    "    print(f\"Recall@{k} = {mean_recall}\")"
   ]
  },
  {
   "cell_type": "markdown",
   "id": "8648f02d-9890-4870-84f2-ac4863917735",
   "metadata": {},
   "source": [
    "## Training"
   ]
  },
  {
   "cell_type": "code",
   "execution_count": 38,
   "id": "bad7f167-eac4-4e76-81e5-0792b829faed",
   "metadata": {},
   "outputs": [],
   "source": [
    "lr = 1e-3\n",
    "batch_size = 64\n",
    "n_epochs = 20"
   ]
  },
  {
   "cell_type": "code",
   "execution_count": 39,
   "id": "16636b2d-6062-45fa-bbed-d92398970947",
   "metadata": {},
   "outputs": [],
   "source": [
    "model = MatrixFactorization(n_factors=20, n_users=n_users, n_items=n_items)\n",
    "\n",
    "optimizer = torch.optim.Adam(model.parameters(), lr=lr)\n",
    "loss_function = nn.BCEWithLogitsLoss()"
   ]
  },
  {
   "cell_type": "markdown",
   "id": "39637ef2-2ddd-489e-97b5-6f69aa64aa79",
   "metadata": {},
   "source": [
    "### Train without sampling"
   ]
  },
  {
   "cell_type": "code",
   "execution_count": 40,
   "id": "9cac3d3c-9a48-4008-80c5-686dd8ddf568",
   "metadata": {},
   "outputs": [],
   "source": [
    "class MovieLensDataset(Dataset):\n",
    "    def __init__(self, data, output_col=\"output\"):\n",
    "        self.users = data.users_mapped.values\n",
    "        self.items = data.items_mapped.values\n",
    "        if output_col:\n",
    "            self.output = data[output_col].values\n",
    "        else:\n",
    "            self.output = np.ones(self.users.shape)\n",
    "        \n",
    "    def __len__(self):\n",
    "        return len(self.users)\n",
    "        \n",
    "    def __getitem__(self, idx):\n",
    "        return (self.users[idx], self.items[idx], self.output[idx])"
   ]
  },
  {
   "cell_type": "code",
   "execution_count": 41,
   "id": "3f5a171e-47ec-4027-8910-c22ea38b074a",
   "metadata": {},
   "outputs": [],
   "source": [
    "dataset = MovieLensDataset(train, output_col=None)\n",
    "dataloader = DataLoader(dataset, batch_size=batch_size, shuffle=True)"
   ]
  },
  {
   "cell_type": "code",
   "execution_count": 42,
   "id": "b59ddab0-bbdf-4847-84ad-5e3b2f5ceaaa",
   "metadata": {},
   "outputs": [],
   "source": [
    "def train_fn(model, optimizer, n_epochs, dataloader, verbose_n_steps=None):\n",
    "    epoch_losses = []\n",
    "    global_step = 0\n",
    "    epoch_loss = []\n",
    "    for epoch in range(1, n_epochs+1):\n",
    "        print(f\"Running epoch {epoch}\")\n",
    "        tmp_loss = []\n",
    "        for user, item, output in tqdm(dataloader):\n",
    "            optimizer.zero_grad()\n",
    "\n",
    "            # Predict and calculate loss\n",
    "            prediction = model(user, item)\n",
    "            loss = loss_function(prediction, output)\n",
    "\n",
    "            # Backpropagate\n",
    "            loss.backward()\n",
    "\n",
    "            # Update the parameters\n",
    "            optimizer.step()\n",
    "\n",
    "            global_step += 1\n",
    "            epoch_loss.append(loss.item())\n",
    "            \n",
    "            if verbose_n_steps:\n",
    "                # store current loss\n",
    "                tmp_loss.append(loss.item())\n",
    "            if verbose_n_steps and global_step % verbose_n_steps == 0:\n",
    "                avg = np.mean(tmp_loss)\n",
    "                print(f\"Step = {global_step}, moving average loss = {avg}\")\n",
    "                tmp_loss = []\n",
    "                \n",
    "        e_loss = np.mean(epoch_loss)\n",
    "        epoch_losses.append(e_loss)\n",
    "        print(f\"Avg loss after epoch {epoch}, is equal to {e_loss}\")\n",
    "        \n",
    "    return epoch_losses"
   ]
  },
  {
   "cell_type": "code",
   "execution_count": 43,
   "id": "1859acdd-f032-43d1-bff6-93ba3643cdf5",
   "metadata": {},
   "outputs": [
    {
     "name": "stdout",
     "output_type": "stream",
     "text": [
      "Running epoch 1\n"
     ]
    },
    {
     "name": "stderr",
     "output_type": "stream",
     "text": [
      "100%|███████████████████████████████████████████████████████████████████████████████| 804/804 [00:02<00:00, 397.20it/s]\n"
     ]
    },
    {
     "name": "stdout",
     "output_type": "stream",
     "text": [
      "Avg loss after epoch 1, is equal to 1.8580522157925798\n",
      "Running epoch 2\n"
     ]
    },
    {
     "name": "stderr",
     "output_type": "stream",
     "text": [
      "100%|███████████████████████████████████████████████████████████████████████████████| 804/804 [00:02<00:00, 340.06it/s]\n"
     ]
    },
    {
     "name": "stdout",
     "output_type": "stream",
     "text": [
      "Avg loss after epoch 2, is equal to 1.7605639855676345\n",
      "Running epoch 3\n"
     ]
    },
    {
     "name": "stderr",
     "output_type": "stream",
     "text": [
      "100%|███████████████████████████████████████████████████████████████████████████████| 804/804 [00:02<00:00, 370.42it/s]\n"
     ]
    },
    {
     "name": "stdout",
     "output_type": "stream",
     "text": [
      "Avg loss after epoch 3, is equal to 1.6689885777214621\n",
      "Running epoch 4\n"
     ]
    },
    {
     "name": "stderr",
     "output_type": "stream",
     "text": [
      "100%|███████████████████████████████████████████████████████████████████████████████| 804/804 [00:02<00:00, 348.11it/s]\n"
     ]
    },
    {
     "name": "stdout",
     "output_type": "stream",
     "text": [
      "Avg loss after epoch 4, is equal to 1.58399221989539\n",
      "Running epoch 5\n"
     ]
    },
    {
     "name": "stderr",
     "output_type": "stream",
     "text": [
      "100%|███████████████████████████████████████████████████████████████████████████████| 804/804 [00:02<00:00, 309.03it/s]\n"
     ]
    },
    {
     "name": "stdout",
     "output_type": "stream",
     "text": [
      "Avg loss after epoch 5, is equal to 1.5054682094473606\n",
      "Running epoch 6\n"
     ]
    },
    {
     "name": "stderr",
     "output_type": "stream",
     "text": [
      "100%|███████████████████████████████████████████████████████████████████████████████| 804/804 [00:02<00:00, 350.01it/s]\n"
     ]
    },
    {
     "name": "stdout",
     "output_type": "stream",
     "text": [
      "Avg loss after epoch 6, is equal to 1.4327366010838465\n",
      "Running epoch 7\n"
     ]
    },
    {
     "name": "stderr",
     "output_type": "stream",
     "text": [
      "100%|███████████████████████████████████████████████████████████████████████████████| 804/804 [00:02<00:00, 394.62it/s]\n"
     ]
    },
    {
     "name": "stdout",
     "output_type": "stream",
     "text": [
      "Avg loss after epoch 7, is equal to 1.365114063665969\n",
      "Running epoch 8\n"
     ]
    },
    {
     "name": "stderr",
     "output_type": "stream",
     "text": [
      "100%|███████████████████████████████████████████████████████████████████████████████| 804/804 [00:02<00:00, 368.35it/s]\n"
     ]
    },
    {
     "name": "stdout",
     "output_type": "stream",
     "text": [
      "Avg loss after epoch 8, is equal to 1.301935816899947\n",
      "Running epoch 9\n"
     ]
    },
    {
     "name": "stderr",
     "output_type": "stream",
     "text": [
      "100%|███████████████████████████████████████████████████████████████████████████████| 804/804 [00:02<00:00, 375.92it/s]\n"
     ]
    },
    {
     "name": "stdout",
     "output_type": "stream",
     "text": [
      "Avg loss after epoch 9, is equal to 1.2424298995056535\n",
      "Running epoch 10\n"
     ]
    },
    {
     "name": "stderr",
     "output_type": "stream",
     "text": [
      "100%|███████████████████████████████████████████████████████████████████████████████| 804/804 [00:02<00:00, 339.83it/s]\n"
     ]
    },
    {
     "name": "stdout",
     "output_type": "stream",
     "text": [
      "Avg loss after epoch 10, is equal to 1.1858883501461017\n",
      "Running epoch 11\n"
     ]
    },
    {
     "name": "stderr",
     "output_type": "stream",
     "text": [
      "100%|███████████████████████████████████████████████████████████████████████████████| 804/804 [00:02<00:00, 386.94it/s]\n"
     ]
    },
    {
     "name": "stdout",
     "output_type": "stream",
     "text": [
      "Avg loss after epoch 11, is equal to 1.1316509076805308\n",
      "Running epoch 12\n"
     ]
    },
    {
     "name": "stderr",
     "output_type": "stream",
     "text": [
      "100%|███████████████████████████████████████████████████████████████████████████████| 804/804 [00:02<00:00, 385.81it/s]\n"
     ]
    },
    {
     "name": "stdout",
     "output_type": "stream",
     "text": [
      "Avg loss after epoch 12, is equal to 1.0792415794314527\n",
      "Running epoch 13\n"
     ]
    },
    {
     "name": "stderr",
     "output_type": "stream",
     "text": [
      "100%|███████████████████████████████████████████████████████████████████████████████| 804/804 [00:02<00:00, 392.45it/s]\n"
     ]
    },
    {
     "name": "stdout",
     "output_type": "stream",
     "text": [
      "Avg loss after epoch 13, is equal to 1.0284188995336874\n",
      "Running epoch 14\n"
     ]
    },
    {
     "name": "stderr",
     "output_type": "stream",
     "text": [
      "100%|███████████████████████████████████████████████████████████████████████████████| 804/804 [00:02<00:00, 373.28it/s]\n"
     ]
    },
    {
     "name": "stdout",
     "output_type": "stream",
     "text": [
      "Avg loss after epoch 14, is equal to 0.979218807900179\n",
      "Running epoch 15\n"
     ]
    },
    {
     "name": "stderr",
     "output_type": "stream",
     "text": [
      "100%|███████████████████████████████████████████████████████████████████████████████| 804/804 [00:02<00:00, 363.49it/s]\n"
     ]
    },
    {
     "name": "stdout",
     "output_type": "stream",
     "text": [
      "Avg loss after epoch 15, is equal to 0.9318551711666142\n",
      "Running epoch 16\n"
     ]
    },
    {
     "name": "stderr",
     "output_type": "stream",
     "text": [
      "100%|███████████████████████████████████████████████████████████████████████████████| 804/804 [00:02<00:00, 383.92it/s]\n"
     ]
    },
    {
     "name": "stdout",
     "output_type": "stream",
     "text": [
      "Avg loss after epoch 16, is equal to 0.8866259280290952\n",
      "Running epoch 17\n"
     ]
    },
    {
     "name": "stderr",
     "output_type": "stream",
     "text": [
      "100%|███████████████████████████████████████████████████████████████████████████████| 804/804 [00:02<00:00, 345.88it/s]\n"
     ]
    },
    {
     "name": "stdout",
     "output_type": "stream",
     "text": [
      "Avg loss after epoch 17, is equal to 0.8438032736280271\n",
      "Running epoch 18\n"
     ]
    },
    {
     "name": "stderr",
     "output_type": "stream",
     "text": [
      "100%|███████████████████████████████████████████████████████████████████████████████| 804/804 [00:02<00:00, 380.06it/s]\n"
     ]
    },
    {
     "name": "stdout",
     "output_type": "stream",
     "text": [
      "Avg loss after epoch 18, is equal to 0.8035636928840015\n",
      "Running epoch 19\n"
     ]
    },
    {
     "name": "stderr",
     "output_type": "stream",
     "text": [
      "100%|███████████████████████████████████████████████████████████████████████████████| 804/804 [00:02<00:00, 375.72it/s]\n"
     ]
    },
    {
     "name": "stdout",
     "output_type": "stream",
     "text": [
      "Avg loss after epoch 19, is equal to 0.7659687397161672\n",
      "Running epoch 20\n"
     ]
    },
    {
     "name": "stderr",
     "output_type": "stream",
     "text": [
      "100%|███████████████████████████████████████████████████████████████████████████████| 804/804 [00:02<00:00, 377.37it/s]"
     ]
    },
    {
     "name": "stdout",
     "output_type": "stream",
     "text": [
      "Avg loss after epoch 20, is equal to 0.7309841856805622\n"
     ]
    },
    {
     "name": "stderr",
     "output_type": "stream",
     "text": [
      "\n"
     ]
    }
   ],
   "source": [
    "losses = train_fn(model, optimizer, n_epochs, dataloader, verbose_n_steps=None)"
   ]
  },
  {
   "cell_type": "code",
   "execution_count": 44,
   "id": "364cd9e3-d9d9-403e-ae28-270e6e9d1e09",
   "metadata": {},
   "outputs": [
    {
     "data": {
      "image/png": "[encoded data removed]",
      "text/plain": [
       "<Figure size 432x288 with 1 Axes>"
      ]
     },
     "metadata": {
      "needs_background": "light"
     },
     "output_type": "display_data"
    }
   ],
   "source": [
    "plt.plot([i+1 for i in range(len(losses))],  losses, \"o\")\n",
    "plt.xlabel(\"epoch\")\n",
    "plt.ylabel(\"loss\")\n",
    "plt.xticks([i+1 for i in range(len(losses))])\n",
    "plt.show()"
   ]
  },
  {
   "cell_type": "code",
   "execution_count": 47,
   "id": "c0fb8e3f-31b1-4be0-9a76-b1f364f9f65f",
   "metadata": {},
   "outputs": [
    {
     "name": "stdout",
     "output_type": "stream",
     "text": [
      "Recall@5 = 0.22307692307692306\n",
      "Recall@10 = 0.22820512820512825\n",
      "Recall@30 = 0.32142323629990205\n"
     ]
    }
   ],
   "source": [
    "scored = score(model, positives_test_encoded, negatives_test_encoded)\n",
    "for k in [5,10, 30]:\n",
    "    recalls = [recall_k(k, pred) for pred in scored.values()]\n",
    "    mean_recall = np.mean(recalls)\n",
    "    print(f\"Recall@{k} = {mean_recall}\")"
   ]
  },
  {
   "cell_type": "markdown",
   "id": "ea64a3b3-5094-4758-82c3-9033b8ace307",
   "metadata": {},
   "source": [
    "### Train with sampling\n",
    "for each interaction from train set sample one negative intraction. There are many ways of sampling, but for simplicity we will focus on simplest approach - random sampling."
   ]
  },
  {
   "cell_type": "code",
   "execution_count": 48,
   "id": "0713458d-59c8-48f8-89ed-8a5b116fb6c7",
   "metadata": {},
   "outputs": [],
   "source": [
    "n_negatives = train.shape[0]"
   ]
  },
  {
   "cell_type": "code",
   "execution_count": 49,
   "id": "6aac1684-3b51-4f99-8375-92f7bac6c136",
   "metadata": {},
   "outputs": [],
   "source": [
    "users_sampled = np.random.choice(users, n_negatives)\n",
    "items_sampled = np.random.choice(items, n_negatives)\n",
    "negative_df = pd.DataFrame({\"userId\":users_sampled, \"movieId\":items_sampled, \"output\":np.zeros(n_negatives)})"
   ]
  },
  {
   "cell_type": "code",
   "execution_count": 50,
   "id": "21c2a363-2cab-4831-bc3c-5a7cd2b4bbee",
   "metadata": {},
   "outputs": [],
   "source": [
    "train_sampled = pd.concat([train[[\"userId\", \"movieId\"]], negative_df])\n",
    "train_sampled = train_sampled.fillna(1)\n",
    "train_sampled[\"users_mapped\"] = train_sampled[\"userId\"].apply(lambda x: u_to_ids[x])\n",
    "train_sampled[\"items_mapped\"] = train_sampled[\"movieId\"].apply(lambda x: i_to_ids[x])"
   ]
  },
  {
   "cell_type": "code",
   "execution_count": 51,
   "id": "3bbc89b9-eb7b-4881-a05c-870d2fac8f50",
   "metadata": {},
   "outputs": [],
   "source": [
    "dataset_sampled = MovieLensDataset(train_sampled)\n",
    "dataloader_sampled = DataLoader(dataset_sampled, batch_size=batch_size, shuffle=True)\n",
    "\n",
    "\n",
    "model = MatrixFactorization(n_factors=20, n_users=n_users, n_items=n_items)\n",
    "\n",
    "optimizer = torch.optim.Adam(model.parameters(), lr=lr)\n",
    "loss_function = nn.BCEWithLogitsLoss()"
   ]
  },
  {
   "cell_type": "code",
   "execution_count": 52,
   "id": "bf12f5f4-225e-46f8-a353-97df9d860e31",
   "metadata": {},
   "outputs": [
    {
     "name": "stdout",
     "output_type": "stream",
     "text": [
      "Running epoch 1\n"
     ]
    },
    {
     "name": "stderr",
     "output_type": "stream",
     "text": [
      "100%|█████████████████████████████████████████████████████████████████████████████| 1608/1608 [00:03<00:00, 411.99it/s]\n"
     ]
    },
    {
     "name": "stdout",
     "output_type": "stream",
     "text": [
      "Avg loss after epoch 1, is equal to 1.8401469694075152\n",
      "Running epoch 2\n"
     ]
    },
    {
     "name": "stderr",
     "output_type": "stream",
     "text": [
      "100%|█████████████████████████████████████████████████████████████████████████████| 1608/1608 [00:03<00:00, 495.21it/s]\n"
     ]
    },
    {
     "name": "stdout",
     "output_type": "stream",
     "text": [
      "Avg loss after epoch 2, is equal to 1.7137992132957025\n",
      "Running epoch 3\n"
     ]
    },
    {
     "name": "stderr",
     "output_type": "stream",
     "text": [
      "100%|█████████████████████████████████████████████████████████████████████████████| 1608/1608 [00:03<00:00, 460.87it/s]\n"
     ]
    },
    {
     "name": "stdout",
     "output_type": "stream",
     "text": [
      "Avg loss after epoch 3, is equal to 1.5994389081315272\n",
      "Running epoch 4\n"
     ]
    },
    {
     "name": "stderr",
     "output_type": "stream",
     "text": [
      "100%|█████████████████████████████████████████████████████████████████████████████| 1608/1608 [00:03<00:00, 460.36it/s]\n"
     ]
    },
    {
     "name": "stdout",
     "output_type": "stream",
     "text": [
      "Avg loss after epoch 4, is equal to 1.4974245762113478\n",
      "Running epoch 5\n"
     ]
    },
    {
     "name": "stderr",
     "output_type": "stream",
     "text": [
      "100%|█████████████████████████████████████████████████████████████████████████████| 1608/1608 [00:03<00:00, 445.29it/s]\n"
     ]
    },
    {
     "name": "stdout",
     "output_type": "stream",
     "text": [
      "Avg loss after epoch 5, is equal to 1.4064033063163461\n",
      "Running epoch 6\n"
     ]
    },
    {
     "name": "stderr",
     "output_type": "stream",
     "text": [
      "100%|█████████████████████████████████████████████████████████████████████████████| 1608/1608 [00:03<00:00, 461.27it/s]\n"
     ]
    },
    {
     "name": "stdout",
     "output_type": "stream",
     "text": [
      "Avg loss after epoch 6, is equal to 1.325462870603762\n",
      "Running epoch 7\n"
     ]
    },
    {
     "name": "stderr",
     "output_type": "stream",
     "text": [
      "100%|█████████████████████████████████████████████████████████████████████████████| 1608/1608 [00:03<00:00, 439.73it/s]\n"
     ]
    },
    {
     "name": "stdout",
     "output_type": "stream",
     "text": [
      "Avg loss after epoch 7, is equal to 1.253332562595254\n",
      "Running epoch 8\n"
     ]
    },
    {
     "name": "stderr",
     "output_type": "stream",
     "text": [
      "100%|█████████████████████████████████████████████████████████████████████████████| 1608/1608 [00:03<00:00, 482.26it/s]\n"
     ]
    },
    {
     "name": "stdout",
     "output_type": "stream",
     "text": [
      "Avg loss after epoch 8, is equal to 1.188744532304809\n",
      "Running epoch 9\n"
     ]
    },
    {
     "name": "stderr",
     "output_type": "stream",
     "text": [
      "100%|█████████████████████████████████████████████████████████████████████████████| 1608/1608 [00:03<00:00, 466.25it/s]\n"
     ]
    },
    {
     "name": "stdout",
     "output_type": "stream",
     "text": [
      "Avg loss after epoch 9, is equal to 1.1305756301026175\n",
      "Running epoch 10\n"
     ]
    },
    {
     "name": "stderr",
     "output_type": "stream",
     "text": [
      "100%|█████████████████████████████████████████████████████████████████████████████| 1608/1608 [00:03<00:00, 494.38it/s]"
     ]
    },
    {
     "name": "stdout",
     "output_type": "stream",
     "text": [
      "Avg loss after epoch 10, is equal to 1.077807324660899\n"
     ]
    },
    {
     "name": "stderr",
     "output_type": "stream",
     "text": [
      "\n"
     ]
    },
    {
     "data": {
      "text/plain": [
       "[1.8401469694075152,\n",
       " 1.7137992132957025,\n",
       " 1.5994389081315272,\n",
       " 1.4974245762113478,\n",
       " 1.4064033063163461,\n",
       " 1.325462870603762,\n",
       " 1.253332562595254,\n",
       " 1.188744532304809,\n",
       " 1.1305756301026175,\n",
       " 1.077807324660899]"
      ]
     },
     "execution_count": 52,
     "metadata": {},
     "output_type": "execute_result"
    }
   ],
   "source": [
    "# TODO n_epochs=20\n",
    "train_fn(model, optimizer, n_epochs=10, dataloader=dataloader_sampled)\n"
   ]
  },
  {
   "cell_type": "code",
   "execution_count": 54,
   "id": "e54f2237-75a9-4d36-98ea-a0791f22c803",
   "metadata": {},
   "outputs": [
    {
     "name": "stdout",
     "output_type": "stream",
     "text": [
      "Recall@5 = 0.2076923076923077\n",
      "Recall@10 = 0.23461538461538464\n",
      "Recall@30 = 0.33687505557289515\n"
     ]
    }
   ],
   "source": [
    "scored = score(model, positives_test_encoded, negatives_test_encoded)\n",
    "for k in [5,10, 30]:\n",
    "    recalls = [recall_k(k, pred) for pred in scored.values()]\n",
    "    mean_recall = np.mean(recalls)\n",
    "    print(f\"Recall@{k} = {mean_recall}\")"
   ]
  },
  {
   "cell_type": "markdown",
   "id": "8c4eddea-326f-4d1c-b05d-4a7a65476069",
   "metadata": {},
   "source": [
    "## Conclusions"
   ]
  },
  {
   "cell_type": "code",
   "execution_count": null,
   "id": "f8660192-5074-4ac8-93e1-642dae60c832",
   "metadata": {},
   "outputs": [],
   "source": []
  },
  {
   "cell_type": "code",
   "execution_count": null,
   "id": "dd31c0d5-1507-42f8-96bd-d16b167129dc",
   "metadata": {},
   "outputs": [],
   "source": []
  }
 ],
 "metadata": {
  "kernelspec": {
   "display_name": "Python 3 (ipykernel)",
   "language": "python",
   "name": "python3"
  },
  "language_info": {
   "codemirror_mode": {
    "name": "ipython",
    "version": 3
   },
   "file_extension": ".py",
   "mimetype": "text/x-python",
   "name": "python",
   "nbconvert_exporter": "python",
   "pygments_lexer": "ipython3",
   "version": "3.8.12"
  }
 },
 "nbformat": 4,
 "nbformat_minor": 5
}
